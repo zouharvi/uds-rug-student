{
 "metadata": {
  "language_info": {
   "codemirror_mode": {
    "name": "ipython",
    "version": 3
   },
   "file_extension": ".py",
   "mimetype": "text/x-python",
   "name": "python",
   "nbconvert_exporter": "python",
   "pygments_lexer": "ipython3",
   "version": "3.8.6-final"
  },
  "orig_nbformat": 2,
  "kernelspec": {
   "name": "python38664bit8ccba5e9b5f64217ae438dbc1825b40c",
   "display_name": "Python 3.8.6 64-bit"
  }
 },
 "nbformat": 4,
 "nbformat_minor": 2,
 "cells": [
  {
   "cell_type": "code",
   "execution_count": 130,
   "metadata": {
    "tags": []
   },
   "outputs": [
    {
     "output_type": "error",
     "ename": "ImportError",
     "evalue": "cannot import name 'BasicNgram' from 'ngram' (/home/vilda/uds-student/computational_linguistics/hw1/ngram.py)",
     "traceback": [
      "\u001b[0;31m---------------------------------------------------------------------------\u001b[0m",
      "\u001b[0;31mImportError\u001b[0m                               Traceback (most recent call last)",
      "\u001b[0;32m<ipython-input-130-ab49901113c6>\u001b[0m in \u001b[0;36m<module>\u001b[0;34m\u001b[0m\n\u001b[0;32m----> 1\u001b[0;31m \u001b[0;32mfrom\u001b[0m \u001b[0mngram\u001b[0m \u001b[0;32mimport\u001b[0m \u001b[0mBasicNgram\u001b[0m\u001b[0;34m\u001b[0m\u001b[0;34m\u001b[0m\u001b[0m\n\u001b[0m\u001b[1;32m      2\u001b[0m \u001b[0;32mfrom\u001b[0m \u001b[0mnltk\u001b[0m\u001b[0;34m.\u001b[0m\u001b[0mtokenize\u001b[0m \u001b[0;32mimport\u001b[0m \u001b[0msent_tokenize\u001b[0m\u001b[0;34m,\u001b[0m \u001b[0mword_tokenize\u001b[0m\u001b[0;34m\u001b[0m\u001b[0;34m\u001b[0m\u001b[0m\n\u001b[1;32m      3\u001b[0m \u001b[0;32mfrom\u001b[0m \u001b[0mnltk\u001b[0m\u001b[0;34m.\u001b[0m\u001b[0mtokenize\u001b[0m\u001b[0;34m.\u001b[0m\u001b[0mtreebank\u001b[0m \u001b[0;32mimport\u001b[0m \u001b[0mTreebankWordDetokenizer\u001b[0m\u001b[0;34m\u001b[0m\u001b[0;34m\u001b[0m\u001b[0m\n\u001b[1;32m      4\u001b[0m \u001b[0mword_detokenize\u001b[0m \u001b[0;34m=\u001b[0m \u001b[0mTreebankWordDetokenizer\u001b[0m\u001b[0;34m(\u001b[0m\u001b[0;34m)\u001b[0m\u001b[0;34m.\u001b[0m\u001b[0mdetokenize\u001b[0m\u001b[0;34m\u001b[0m\u001b[0;34m\u001b[0m\u001b[0m\n\u001b[1;32m      5\u001b[0m \u001b[0;34m\u001b[0m\u001b[0m\n",
      "\u001b[0;31mImportError\u001b[0m: cannot import name 'BasicNgram' from 'ngram' (/home/vilda/uds-student/computational_linguistics/hw1/ngram.py)"
     ]
    }
   ],
   "source": [
    "from ngram import BasicNgram\n",
    "from nltk.tokenize import sent_tokenize, word_tokenize\n",
    "from nltk.tokenize.treebank import TreebankWordDetokenizer\n",
    "word_detokenize = TreebankWordDetokenizer().detokenize\n",
    "\n",
    "START_SYMBOL=\"<$>\"\n",
    "END_SYMBOL=\"</$>\"\n",
    "\n",
    "def corpus(corpus):\n",
    "    with open(corpus, 'r') as f:\n",
    "        data = [word_tokenize(sent) for sent in sent_tokenize(f.read())]\n",
    "        out = [START_SYMBOL] + data[0]\n",
    "        for sent in data[1:]:\n",
    "            out.append(END_SYMBOL)\n",
    "            out.append(START_SYMBOL)\n",
    "            out += sent\n",
    "        out.append(END_SYMBOL)\n",
    "    return out\n",
    "\n",
    "def create_story(corpusname, nlength=2, wordlength=100):\n",
    "    data = corpus(corpusname)\n",
    "    ngram = BasicNgram(nlength, data, start_symbol=START_SYMBOL, end_symbol=END_SYMBOL)\n",
    "    context = [ngram._start_symbol]*(nlength-1)\n",
    "    output = []\n",
    "    for _ in range(wordlength):\n",
    "        word = ngram[tuple(context)].generate()\n",
    "        context.append(word)\n",
    "        context.pop(0)\n",
    "        output.append(word)\n",
    "    output = [x for x in output if x not in {START_SYMBOL, END_SYMBOL}]\n",
    "    print(word_detokenize(output).replace(' .', '.'))\n"
   ]
  },
  {
   "cell_type": "code",
   "execution_count": 116,
   "metadata": {},
   "outputs": [
    {
     "output_type": "stream",
     "name": "stdout",
     "text": [
      "There was weak spot, here is wilder work. I've been halibut along my way with men did not a corner and only three elephants broke, and again , 1894, Kotick followed him here a fraction of being noticed by in twenty years, wicked tails cold sound, but all out one another pack a clear of the grass quivered again. Now we can ,\"_Maro!\"`` Umph! he is a noise of``So bounding all seem to safely\n"
     ]
    }
   ],
   "source": [
    "create_story('../data/Junglebook.txt', nlength=2)"
   ]
  },
  {
   "cell_type": "code",
   "execution_count": 117,
   "metadata": {},
   "outputs": [
    {
     "output_type": "stream",
     "name": "stdout",
     "text": [
      "In the year that king Uzziah died I saw also the LORD hath brought me in to possess the iniquities of our fathers. Nathanael saith unto him, Is there not here a prophet of the LORD thy God with all thine offerings thou shalt offer the third part of you that is sorry for me, and I laid meat unto them. A wise king scattereth the wicked, and plucked the spear out of the captivity, and have made a man every whit whole on the sabbath it shall be ,\n"
     ]
    }
   ],
   "source": [
    "create_story('../data/King James Bible.txt', nlength=4)"
   ]
  },
  {
   "source": [
    "https://www.kaggle.com/ultrajack/modern-renaissance-poetry  \n",
    "\n",
    "https://www.kaggle.com/tgdivy/poetry-foundation-poems"
   ],
   "cell_type": "markdown",
   "metadata": {}
  },
  {
   "cell_type": "code",
   "execution_count": 126,
   "metadata": {},
   "outputs": [
    {
     "output_type": "stream",
     "name": "stdout",
     "text": [
      "Poem Objects Used to Prop Open a Window because this window is split. Rip into. * A poem should be motionless in time\n"
     ]
    }
   ],
   "source": [
    "create_story('../data/poetryfoundation_clean.txt', nlength=4, wordlength=30)"
   ]
  }
 ]
}