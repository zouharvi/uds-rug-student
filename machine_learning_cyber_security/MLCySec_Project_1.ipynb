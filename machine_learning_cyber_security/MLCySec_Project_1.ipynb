{
  "nbformat": 4,
  "nbformat_minor": 0,
  "metadata": {
    "accelerator": "GPU",
    "colab": {
      "name": "MLCySec Project 1",
      "provenance": [],
      "collapsed_sections": [],
      "toc_visible": true
    },
    "kernelspec": {
      "display_name": "Python 3",
      "language": "python",
      "name": "python3"
    },
    "language_info": {
      "codemirror_mode": {
        "name": "ipython",
        "version": 3
      },
      "file_extension": ".py",
      "mimetype": "text/x-python",
      "name": "python",
      "nbconvert_exporter": "python",
      "pygments_lexer": "ipython3",
      "version": "3.6.9"
    },
    "widgets": {
      "application/vnd.jupyter.widget-state+json": {
        "e30c0db3863544d09790e42e5ca28ed0": {
          "model_module": "@jupyter-widgets/controls",
          "model_name": "HBoxModel",
          "state": {
            "_view_name": "HBoxView",
            "_dom_classes": [],
            "_model_name": "HBoxModel",
            "_view_module": "@jupyter-widgets/controls",
            "_model_module_version": "1.5.0",
            "_view_count": null,
            "_view_module_version": "1.5.0",
            "box_style": "",
            "layout": "IPY_MODEL_6a5d30482e28469a9176a10fab0f3055",
            "_model_module": "@jupyter-widgets/controls",
            "children": [
              "IPY_MODEL_acbcce5a5e064e91a0958f56bcf430c9",
              "IPY_MODEL_0ffc532b87b6475d81ac39257a3c8d6d"
            ]
          }
        },
        "6a5d30482e28469a9176a10fab0f3055": {
          "model_module": "@jupyter-widgets/base",
          "model_name": "LayoutModel",
          "state": {
            "_view_name": "LayoutView",
            "grid_template_rows": null,
            "right": null,
            "justify_content": null,
            "_view_module": "@jupyter-widgets/base",
            "overflow": null,
            "_model_module_version": "1.2.0",
            "_view_count": null,
            "flex_flow": null,
            "width": null,
            "min_width": null,
            "border": null,
            "align_items": null,
            "bottom": null,
            "_model_module": "@jupyter-widgets/base",
            "top": null,
            "grid_column": null,
            "overflow_y": null,
            "overflow_x": null,
            "grid_auto_flow": null,
            "grid_area": null,
            "grid_template_columns": null,
            "flex": null,
            "_model_name": "LayoutModel",
            "justify_items": null,
            "grid_row": null,
            "max_height": null,
            "align_content": null,
            "visibility": null,
            "align_self": null,
            "height": null,
            "min_height": null,
            "padding": null,
            "grid_auto_rows": null,
            "grid_gap": null,
            "max_width": null,
            "order": null,
            "_view_module_version": "1.2.0",
            "grid_template_areas": null,
            "object_position": null,
            "object_fit": null,
            "grid_auto_columns": null,
            "margin": null,
            "display": null,
            "left": null
          }
        },
        "acbcce5a5e064e91a0958f56bcf430c9": {
          "model_module": "@jupyter-widgets/controls",
          "model_name": "FloatProgressModel",
          "state": {
            "_view_name": "ProgressView",
            "style": "IPY_MODEL_d7a23d886fbc40c899b48a51d3d009d1",
            "_dom_classes": [],
            "description": "",
            "_model_name": "FloatProgressModel",
            "bar_style": "success",
            "max": 1,
            "_view_module": "@jupyter-widgets/controls",
            "_model_module_version": "1.5.0",
            "value": 1,
            "_view_count": null,
            "_view_module_version": "1.5.0",
            "orientation": "horizontal",
            "min": 0,
            "description_tooltip": null,
            "_model_module": "@jupyter-widgets/controls",
            "layout": "IPY_MODEL_8dc448e09de04123aa3ead96561f3572"
          }
        },
        "0ffc532b87b6475d81ac39257a3c8d6d": {
          "model_module": "@jupyter-widgets/controls",
          "model_name": "HTMLModel",
          "state": {
            "_view_name": "HTMLView",
            "style": "IPY_MODEL_148ce8bf658b413088cffc4e4bf16ffa",
            "_dom_classes": [],
            "description": "",
            "_model_name": "HTMLModel",
            "placeholder": "​",
            "_view_module": "@jupyter-widgets/controls",
            "_model_module_version": "1.5.0",
            "value": " 9920512/? [00:00&lt;00:00, 29505907.02it/s]",
            "_view_count": null,
            "_view_module_version": "1.5.0",
            "description_tooltip": null,
            "_model_module": "@jupyter-widgets/controls",
            "layout": "IPY_MODEL_09039ed223684b62822b57fb361c4d0f"
          }
        },
        "d7a23d886fbc40c899b48a51d3d009d1": {
          "model_module": "@jupyter-widgets/controls",
          "model_name": "ProgressStyleModel",
          "state": {
            "_view_name": "StyleView",
            "_model_name": "ProgressStyleModel",
            "description_width": "initial",
            "_view_module": "@jupyter-widgets/base",
            "_model_module_version": "1.5.0",
            "_view_count": null,
            "_view_module_version": "1.2.0",
            "bar_color": null,
            "_model_module": "@jupyter-widgets/controls"
          }
        },
        "8dc448e09de04123aa3ead96561f3572": {
          "model_module": "@jupyter-widgets/base",
          "model_name": "LayoutModel",
          "state": {
            "_view_name": "LayoutView",
            "grid_template_rows": null,
            "right": null,
            "justify_content": null,
            "_view_module": "@jupyter-widgets/base",
            "overflow": null,
            "_model_module_version": "1.2.0",
            "_view_count": null,
            "flex_flow": null,
            "width": null,
            "min_width": null,
            "border": null,
            "align_items": null,
            "bottom": null,
            "_model_module": "@jupyter-widgets/base",
            "top": null,
            "grid_column": null,
            "overflow_y": null,
            "overflow_x": null,
            "grid_auto_flow": null,
            "grid_area": null,
            "grid_template_columns": null,
            "flex": null,
            "_model_name": "LayoutModel",
            "justify_items": null,
            "grid_row": null,
            "max_height": null,
            "align_content": null,
            "visibility": null,
            "align_self": null,
            "height": null,
            "min_height": null,
            "padding": null,
            "grid_auto_rows": null,
            "grid_gap": null,
            "max_width": null,
            "order": null,
            "_view_module_version": "1.2.0",
            "grid_template_areas": null,
            "object_position": null,
            "object_fit": null,
            "grid_auto_columns": null,
            "margin": null,
            "display": null,
            "left": null
          }
        },
        "148ce8bf658b413088cffc4e4bf16ffa": {
          "model_module": "@jupyter-widgets/controls",
          "model_name": "DescriptionStyleModel",
          "state": {
            "_view_name": "StyleView",
            "_model_name": "DescriptionStyleModel",
            "description_width": "",
            "_view_module": "@jupyter-widgets/base",
            "_model_module_version": "1.5.0",
            "_view_count": null,
            "_view_module_version": "1.2.0",
            "_model_module": "@jupyter-widgets/controls"
          }
        },
        "09039ed223684b62822b57fb361c4d0f": {
          "model_module": "@jupyter-widgets/base",
          "model_name": "LayoutModel",
          "state": {
            "_view_name": "LayoutView",
            "grid_template_rows": null,
            "right": null,
            "justify_content": null,
            "_view_module": "@jupyter-widgets/base",
            "overflow": null,
            "_model_module_version": "1.2.0",
            "_view_count": null,
            "flex_flow": null,
            "width": null,
            "min_width": null,
            "border": null,
            "align_items": null,
            "bottom": null,
            "_model_module": "@jupyter-widgets/base",
            "top": null,
            "grid_column": null,
            "overflow_y": null,
            "overflow_x": null,
            "grid_auto_flow": null,
            "grid_area": null,
            "grid_template_columns": null,
            "flex": null,
            "_model_name": "LayoutModel",
            "justify_items": null,
            "grid_row": null,
            "max_height": null,
            "align_content": null,
            "visibility": null,
            "align_self": null,
            "height": null,
            "min_height": null,
            "padding": null,
            "grid_auto_rows": null,
            "grid_gap": null,
            "max_width": null,
            "order": null,
            "_view_module_version": "1.2.0",
            "grid_template_areas": null,
            "object_position": null,
            "object_fit": null,
            "grid_auto_columns": null,
            "margin": null,
            "display": null,
            "left": null
          }
        },
        "95f7394ed74741e0ab5205bddeca17fd": {
          "model_module": "@jupyter-widgets/controls",
          "model_name": "HBoxModel",
          "state": {
            "_view_name": "HBoxView",
            "_dom_classes": [],
            "_model_name": "HBoxModel",
            "_view_module": "@jupyter-widgets/controls",
            "_model_module_version": "1.5.0",
            "_view_count": null,
            "_view_module_version": "1.5.0",
            "box_style": "",
            "layout": "IPY_MODEL_2b8579f716954f1680d1808df9d535ba",
            "_model_module": "@jupyter-widgets/controls",
            "children": [
              "IPY_MODEL_e9b79307aaaf4b0b81e7e3ce4fdb1383",
              "IPY_MODEL_597b8528a9ca41ac9e9451c1b931a131"
            ]
          }
        },
        "2b8579f716954f1680d1808df9d535ba": {
          "model_module": "@jupyter-widgets/base",
          "model_name": "LayoutModel",
          "state": {
            "_view_name": "LayoutView",
            "grid_template_rows": null,
            "right": null,
            "justify_content": null,
            "_view_module": "@jupyter-widgets/base",
            "overflow": null,
            "_model_module_version": "1.2.0",
            "_view_count": null,
            "flex_flow": null,
            "width": null,
            "min_width": null,
            "border": null,
            "align_items": null,
            "bottom": null,
            "_model_module": "@jupyter-widgets/base",
            "top": null,
            "grid_column": null,
            "overflow_y": null,
            "overflow_x": null,
            "grid_auto_flow": null,
            "grid_area": null,
            "grid_template_columns": null,
            "flex": null,
            "_model_name": "LayoutModel",
            "justify_items": null,
            "grid_row": null,
            "max_height": null,
            "align_content": null,
            "visibility": null,
            "align_self": null,
            "height": null,
            "min_height": null,
            "padding": null,
            "grid_auto_rows": null,
            "grid_gap": null,
            "max_width": null,
            "order": null,
            "_view_module_version": "1.2.0",
            "grid_template_areas": null,
            "object_position": null,
            "object_fit": null,
            "grid_auto_columns": null,
            "margin": null,
            "display": null,
            "left": null
          }
        },
        "e9b79307aaaf4b0b81e7e3ce4fdb1383": {
          "model_module": "@jupyter-widgets/controls",
          "model_name": "FloatProgressModel",
          "state": {
            "_view_name": "ProgressView",
            "style": "IPY_MODEL_98564e4c2aed467cb9e2a50d11fd7b10",
            "_dom_classes": [],
            "description": "",
            "_model_name": "FloatProgressModel",
            "bar_style": "success",
            "max": 1,
            "_view_module": "@jupyter-widgets/controls",
            "_model_module_version": "1.5.0",
            "value": 1,
            "_view_count": null,
            "_view_module_version": "1.5.0",
            "orientation": "horizontal",
            "min": 0,
            "description_tooltip": null,
            "_model_module": "@jupyter-widgets/controls",
            "layout": "IPY_MODEL_6b0548bdef8f47b4997669c34a5d9d5b"
          }
        },
        "597b8528a9ca41ac9e9451c1b931a131": {
          "model_module": "@jupyter-widgets/controls",
          "model_name": "HTMLModel",
          "state": {
            "_view_name": "HTMLView",
            "style": "IPY_MODEL_8a13f7d3e89a44589af0bfbc035cf2d9",
            "_dom_classes": [],
            "description": "",
            "_model_name": "HTMLModel",
            "placeholder": "​",
            "_view_module": "@jupyter-widgets/controls",
            "_model_module_version": "1.5.0",
            "value": " 32768/? [00:00&lt;00:00, 46134.90it/s]",
            "_view_count": null,
            "_view_module_version": "1.5.0",
            "description_tooltip": null,
            "_model_module": "@jupyter-widgets/controls",
            "layout": "IPY_MODEL_b773d2090b35416bb7ce16a24ff97d4b"
          }
        },
        "98564e4c2aed467cb9e2a50d11fd7b10": {
          "model_module": "@jupyter-widgets/controls",
          "model_name": "ProgressStyleModel",
          "state": {
            "_view_name": "StyleView",
            "_model_name": "ProgressStyleModel",
            "description_width": "initial",
            "_view_module": "@jupyter-widgets/base",
            "_model_module_version": "1.5.0",
            "_view_count": null,
            "_view_module_version": "1.2.0",
            "bar_color": null,
            "_model_module": "@jupyter-widgets/controls"
          }
        },
        "6b0548bdef8f47b4997669c34a5d9d5b": {
          "model_module": "@jupyter-widgets/base",
          "model_name": "LayoutModel",
          "state": {
            "_view_name": "LayoutView",
            "grid_template_rows": null,
            "right": null,
            "justify_content": null,
            "_view_module": "@jupyter-widgets/base",
            "overflow": null,
            "_model_module_version": "1.2.0",
            "_view_count": null,
            "flex_flow": null,
            "width": null,
            "min_width": null,
            "border": null,
            "align_items": null,
            "bottom": null,
            "_model_module": "@jupyter-widgets/base",
            "top": null,
            "grid_column": null,
            "overflow_y": null,
            "overflow_x": null,
            "grid_auto_flow": null,
            "grid_area": null,
            "grid_template_columns": null,
            "flex": null,
            "_model_name": "LayoutModel",
            "justify_items": null,
            "grid_row": null,
            "max_height": null,
            "align_content": null,
            "visibility": null,
            "align_self": null,
            "height": null,
            "min_height": null,
            "padding": null,
            "grid_auto_rows": null,
            "grid_gap": null,
            "max_width": null,
            "order": null,
            "_view_module_version": "1.2.0",
            "grid_template_areas": null,
            "object_position": null,
            "object_fit": null,
            "grid_auto_columns": null,
            "margin": null,
            "display": null,
            "left": null
          }
        },
        "8a13f7d3e89a44589af0bfbc035cf2d9": {
          "model_module": "@jupyter-widgets/controls",
          "model_name": "DescriptionStyleModel",
          "state": {
            "_view_name": "StyleView",
            "_model_name": "DescriptionStyleModel",
            "description_width": "",
            "_view_module": "@jupyter-widgets/base",
            "_model_module_version": "1.5.0",
            "_view_count": null,
            "_view_module_version": "1.2.0",
            "_model_module": "@jupyter-widgets/controls"
          }
        },
        "b773d2090b35416bb7ce16a24ff97d4b": {
          "model_module": "@jupyter-widgets/base",
          "model_name": "LayoutModel",
          "state": {
            "_view_name": "LayoutView",
            "grid_template_rows": null,
            "right": null,
            "justify_content": null,
            "_view_module": "@jupyter-widgets/base",
            "overflow": null,
            "_model_module_version": "1.2.0",
            "_view_count": null,
            "flex_flow": null,
            "width": null,
            "min_width": null,
            "border": null,
            "align_items": null,
            "bottom": null,
            "_model_module": "@jupyter-widgets/base",
            "top": null,
            "grid_column": null,
            "overflow_y": null,
            "overflow_x": null,
            "grid_auto_flow": null,
            "grid_area": null,
            "grid_template_columns": null,
            "flex": null,
            "_model_name": "LayoutModel",
            "justify_items": null,
            "grid_row": null,
            "max_height": null,
            "align_content": null,
            "visibility": null,
            "align_self": null,
            "height": null,
            "min_height": null,
            "padding": null,
            "grid_auto_rows": null,
            "grid_gap": null,
            "max_width": null,
            "order": null,
            "_view_module_version": "1.2.0",
            "grid_template_areas": null,
            "object_position": null,
            "object_fit": null,
            "grid_auto_columns": null,
            "margin": null,
            "display": null,
            "left": null
          }
        },
        "eae4983ab66b4ff3838c25b0ce7a84c1": {
          "model_module": "@jupyter-widgets/controls",
          "model_name": "HBoxModel",
          "state": {
            "_view_name": "HBoxView",
            "_dom_classes": [],
            "_model_name": "HBoxModel",
            "_view_module": "@jupyter-widgets/controls",
            "_model_module_version": "1.5.0",
            "_view_count": null,
            "_view_module_version": "1.5.0",
            "box_style": "",
            "layout": "IPY_MODEL_91a908deddae450094fda87370006bff",
            "_model_module": "@jupyter-widgets/controls",
            "children": [
              "IPY_MODEL_088a2d47c6a940db95bd941a3f4eb94a",
              "IPY_MODEL_d3bc43c99c474383a0b8f2930430b6f3"
            ]
          }
        },
        "91a908deddae450094fda87370006bff": {
          "model_module": "@jupyter-widgets/base",
          "model_name": "LayoutModel",
          "state": {
            "_view_name": "LayoutView",
            "grid_template_rows": null,
            "right": null,
            "justify_content": null,
            "_view_module": "@jupyter-widgets/base",
            "overflow": null,
            "_model_module_version": "1.2.0",
            "_view_count": null,
            "flex_flow": null,
            "width": null,
            "min_width": null,
            "border": null,
            "align_items": null,
            "bottom": null,
            "_model_module": "@jupyter-widgets/base",
            "top": null,
            "grid_column": null,
            "overflow_y": null,
            "overflow_x": null,
            "grid_auto_flow": null,
            "grid_area": null,
            "grid_template_columns": null,
            "flex": null,
            "_model_name": "LayoutModel",
            "justify_items": null,
            "grid_row": null,
            "max_height": null,
            "align_content": null,
            "visibility": null,
            "align_self": null,
            "height": null,
            "min_height": null,
            "padding": null,
            "grid_auto_rows": null,
            "grid_gap": null,
            "max_width": null,
            "order": null,
            "_view_module_version": "1.2.0",
            "grid_template_areas": null,
            "object_position": null,
            "object_fit": null,
            "grid_auto_columns": null,
            "margin": null,
            "display": null,
            "left": null
          }
        },
        "088a2d47c6a940db95bd941a3f4eb94a": {
          "model_module": "@jupyter-widgets/controls",
          "model_name": "FloatProgressModel",
          "state": {
            "_view_name": "ProgressView",
            "style": "IPY_MODEL_49ecbf1c815f468aa5d2678b13b147e0",
            "_dom_classes": [],
            "description": "",
            "_model_name": "FloatProgressModel",
            "bar_style": "success",
            "max": 1,
            "_view_module": "@jupyter-widgets/controls",
            "_model_module_version": "1.5.0",
            "value": 1,
            "_view_count": null,
            "_view_module_version": "1.5.0",
            "orientation": "horizontal",
            "min": 0,
            "description_tooltip": null,
            "_model_module": "@jupyter-widgets/controls",
            "layout": "IPY_MODEL_630faa4222734eddb8016ac673846fea"
          }
        },
        "d3bc43c99c474383a0b8f2930430b6f3": {
          "model_module": "@jupyter-widgets/controls",
          "model_name": "HTMLModel",
          "state": {
            "_view_name": "HTMLView",
            "style": "IPY_MODEL_181e1652eb68434c81cbc2b216b4fb20",
            "_dom_classes": [],
            "description": "",
            "_model_name": "HTMLModel",
            "placeholder": "​",
            "_view_module": "@jupyter-widgets/controls",
            "_model_module_version": "1.5.0",
            "value": " 1654784/? [00:00&lt;00:00, 3026755.05it/s]",
            "_view_count": null,
            "_view_module_version": "1.5.0",
            "description_tooltip": null,
            "_model_module": "@jupyter-widgets/controls",
            "layout": "IPY_MODEL_bdd41d05fff446d5b6685f4a2af087a4"
          }
        },
        "49ecbf1c815f468aa5d2678b13b147e0": {
          "model_module": "@jupyter-widgets/controls",
          "model_name": "ProgressStyleModel",
          "state": {
            "_view_name": "StyleView",
            "_model_name": "ProgressStyleModel",
            "description_width": "initial",
            "_view_module": "@jupyter-widgets/base",
            "_model_module_version": "1.5.0",
            "_view_count": null,
            "_view_module_version": "1.2.0",
            "bar_color": null,
            "_model_module": "@jupyter-widgets/controls"
          }
        },
        "630faa4222734eddb8016ac673846fea": {
          "model_module": "@jupyter-widgets/base",
          "model_name": "LayoutModel",
          "state": {
            "_view_name": "LayoutView",
            "grid_template_rows": null,
            "right": null,
            "justify_content": null,
            "_view_module": "@jupyter-widgets/base",
            "overflow": null,
            "_model_module_version": "1.2.0",
            "_view_count": null,
            "flex_flow": null,
            "width": null,
            "min_width": null,
            "border": null,
            "align_items": null,
            "bottom": null,
            "_model_module": "@jupyter-widgets/base",
            "top": null,
            "grid_column": null,
            "overflow_y": null,
            "overflow_x": null,
            "grid_auto_flow": null,
            "grid_area": null,
            "grid_template_columns": null,
            "flex": null,
            "_model_name": "LayoutModel",
            "justify_items": null,
            "grid_row": null,
            "max_height": null,
            "align_content": null,
            "visibility": null,
            "align_self": null,
            "height": null,
            "min_height": null,
            "padding": null,
            "grid_auto_rows": null,
            "grid_gap": null,
            "max_width": null,
            "order": null,
            "_view_module_version": "1.2.0",
            "grid_template_areas": null,
            "object_position": null,
            "object_fit": null,
            "grid_auto_columns": null,
            "margin": null,
            "display": null,
            "left": null
          }
        },
        "181e1652eb68434c81cbc2b216b4fb20": {
          "model_module": "@jupyter-widgets/controls",
          "model_name": "DescriptionStyleModel",
          "state": {
            "_view_name": "StyleView",
            "_model_name": "DescriptionStyleModel",
            "description_width": "",
            "_view_module": "@jupyter-widgets/base",
            "_model_module_version": "1.5.0",
            "_view_count": null,
            "_view_module_version": "1.2.0",
            "_model_module": "@jupyter-widgets/controls"
          }
        },
        "bdd41d05fff446d5b6685f4a2af087a4": {
          "model_module": "@jupyter-widgets/base",
          "model_name": "LayoutModel",
          "state": {
            "_view_name": "LayoutView",
            "grid_template_rows": null,
            "right": null,
            "justify_content": null,
            "_view_module": "@jupyter-widgets/base",
            "overflow": null,
            "_model_module_version": "1.2.0",
            "_view_count": null,
            "flex_flow": null,
            "width": null,
            "min_width": null,
            "border": null,
            "align_items": null,
            "bottom": null,
            "_model_module": "@jupyter-widgets/base",
            "top": null,
            "grid_column": null,
            "overflow_y": null,
            "overflow_x": null,
            "grid_auto_flow": null,
            "grid_area": null,
            "grid_template_columns": null,
            "flex": null,
            "_model_name": "LayoutModel",
            "justify_items": null,
            "grid_row": null,
            "max_height": null,
            "align_content": null,
            "visibility": null,
            "align_self": null,
            "height": null,
            "min_height": null,
            "padding": null,
            "grid_auto_rows": null,
            "grid_gap": null,
            "max_width": null,
            "order": null,
            "_view_module_version": "1.2.0",
            "grid_template_areas": null,
            "object_position": null,
            "object_fit": null,
            "grid_auto_columns": null,
            "margin": null,
            "display": null,
            "left": null
          }
        },
        "18d0815e3fe34a6494aa103ea205efce": {
          "model_module": "@jupyter-widgets/controls",
          "model_name": "HBoxModel",
          "state": {
            "_view_name": "HBoxView",
            "_dom_classes": [],
            "_model_name": "HBoxModel",
            "_view_module": "@jupyter-widgets/controls",
            "_model_module_version": "1.5.0",
            "_view_count": null,
            "_view_module_version": "1.5.0",
            "box_style": "",
            "layout": "IPY_MODEL_d0089878a48242ec8621cbffb35e769d",
            "_model_module": "@jupyter-widgets/controls",
            "children": [
              "IPY_MODEL_f06e66dbed2c466491b6466ec3c1a159",
              "IPY_MODEL_802d0ab3287946ff99ba589a5d9580b5"
            ]
          }
        },
        "d0089878a48242ec8621cbffb35e769d": {
          "model_module": "@jupyter-widgets/base",
          "model_name": "LayoutModel",
          "state": {
            "_view_name": "LayoutView",
            "grid_template_rows": null,
            "right": null,
            "justify_content": null,
            "_view_module": "@jupyter-widgets/base",
            "overflow": null,
            "_model_module_version": "1.2.0",
            "_view_count": null,
            "flex_flow": null,
            "width": null,
            "min_width": null,
            "border": null,
            "align_items": null,
            "bottom": null,
            "_model_module": "@jupyter-widgets/base",
            "top": null,
            "grid_column": null,
            "overflow_y": null,
            "overflow_x": null,
            "grid_auto_flow": null,
            "grid_area": null,
            "grid_template_columns": null,
            "flex": null,
            "_model_name": "LayoutModel",
            "justify_items": null,
            "grid_row": null,
            "max_height": null,
            "align_content": null,
            "visibility": null,
            "align_self": null,
            "height": null,
            "min_height": null,
            "padding": null,
            "grid_auto_rows": null,
            "grid_gap": null,
            "max_width": null,
            "order": null,
            "_view_module_version": "1.2.0",
            "grid_template_areas": null,
            "object_position": null,
            "object_fit": null,
            "grid_auto_columns": null,
            "margin": null,
            "display": null,
            "left": null
          }
        },
        "f06e66dbed2c466491b6466ec3c1a159": {
          "model_module": "@jupyter-widgets/controls",
          "model_name": "FloatProgressModel",
          "state": {
            "_view_name": "ProgressView",
            "style": "IPY_MODEL_8b933532e76446b2b3a07f5146b98947",
            "_dom_classes": [],
            "description": "",
            "_model_name": "FloatProgressModel",
            "bar_style": "success",
            "max": 1,
            "_view_module": "@jupyter-widgets/controls",
            "_model_module_version": "1.5.0",
            "value": 1,
            "_view_count": null,
            "_view_module_version": "1.5.0",
            "orientation": "horizontal",
            "min": 0,
            "description_tooltip": null,
            "_model_module": "@jupyter-widgets/controls",
            "layout": "IPY_MODEL_ba0d6d38998d46b098f4d3e2f30e7b03"
          }
        },
        "802d0ab3287946ff99ba589a5d9580b5": {
          "model_module": "@jupyter-widgets/controls",
          "model_name": "HTMLModel",
          "state": {
            "_view_name": "HTMLView",
            "style": "IPY_MODEL_e9e2615b08f64070b05694a5699ba27f",
            "_dom_classes": [],
            "description": "",
            "_model_name": "HTMLModel",
            "placeholder": "​",
            "_view_module": "@jupyter-widgets/controls",
            "_model_module_version": "1.5.0",
            "value": " 8192/? [00:00&lt;00:00, 25975.48it/s]",
            "_view_count": null,
            "_view_module_version": "1.5.0",
            "description_tooltip": null,
            "_model_module": "@jupyter-widgets/controls",
            "layout": "IPY_MODEL_e6239b4cb5304bcaa6d404c6fae5393b"
          }
        },
        "8b933532e76446b2b3a07f5146b98947": {
          "model_module": "@jupyter-widgets/controls",
          "model_name": "ProgressStyleModel",
          "state": {
            "_view_name": "StyleView",
            "_model_name": "ProgressStyleModel",
            "description_width": "initial",
            "_view_module": "@jupyter-widgets/base",
            "_model_module_version": "1.5.0",
            "_view_count": null,
            "_view_module_version": "1.2.0",
            "bar_color": null,
            "_model_module": "@jupyter-widgets/controls"
          }
        },
        "ba0d6d38998d46b098f4d3e2f30e7b03": {
          "model_module": "@jupyter-widgets/base",
          "model_name": "LayoutModel",
          "state": {
            "_view_name": "LayoutView",
            "grid_template_rows": null,
            "right": null,
            "justify_content": null,
            "_view_module": "@jupyter-widgets/base",
            "overflow": null,
            "_model_module_version": "1.2.0",
            "_view_count": null,
            "flex_flow": null,
            "width": null,
            "min_width": null,
            "border": null,
            "align_items": null,
            "bottom": null,
            "_model_module": "@jupyter-widgets/base",
            "top": null,
            "grid_column": null,
            "overflow_y": null,
            "overflow_x": null,
            "grid_auto_flow": null,
            "grid_area": null,
            "grid_template_columns": null,
            "flex": null,
            "_model_name": "LayoutModel",
            "justify_items": null,
            "grid_row": null,
            "max_height": null,
            "align_content": null,
            "visibility": null,
            "align_self": null,
            "height": null,
            "min_height": null,
            "padding": null,
            "grid_auto_rows": null,
            "grid_gap": null,
            "max_width": null,
            "order": null,
            "_view_module_version": "1.2.0",
            "grid_template_areas": null,
            "object_position": null,
            "object_fit": null,
            "grid_auto_columns": null,
            "margin": null,
            "display": null,
            "left": null
          }
        },
        "e9e2615b08f64070b05694a5699ba27f": {
          "model_module": "@jupyter-widgets/controls",
          "model_name": "DescriptionStyleModel",
          "state": {
            "_view_name": "StyleView",
            "_model_name": "DescriptionStyleModel",
            "description_width": "",
            "_view_module": "@jupyter-widgets/base",
            "_model_module_version": "1.5.0",
            "_view_count": null,
            "_view_module_version": "1.2.0",
            "_model_module": "@jupyter-widgets/controls"
          }
        },
        "e6239b4cb5304bcaa6d404c6fae5393b": {
          "model_module": "@jupyter-widgets/base",
          "model_name": "LayoutModel",
          "state": {
            "_view_name": "LayoutView",
            "grid_template_rows": null,
            "right": null,
            "justify_content": null,
            "_view_module": "@jupyter-widgets/base",
            "overflow": null,
            "_model_module_version": "1.2.0",
            "_view_count": null,
            "flex_flow": null,
            "width": null,
            "min_width": null,
            "border": null,
            "align_items": null,
            "bottom": null,
            "_model_module": "@jupyter-widgets/base",
            "top": null,
            "grid_column": null,
            "overflow_y": null,
            "overflow_x": null,
            "grid_auto_flow": null,
            "grid_area": null,
            "grid_template_columns": null,
            "flex": null,
            "_model_name": "LayoutModel",
            "justify_items": null,
            "grid_row": null,
            "max_height": null,
            "align_content": null,
            "visibility": null,
            "align_self": null,
            "height": null,
            "min_height": null,
            "padding": null,
            "grid_auto_rows": null,
            "grid_gap": null,
            "max_width": null,
            "order": null,
            "_view_module_version": "1.2.0",
            "grid_template_areas": null,
            "object_position": null,
            "object_fit": null,
            "grid_auto_columns": null,
            "margin": null,
            "display": null,
            "left": null
          }
        }
      }
    }
  },
  "cells": [
    {
      "cell_type": "markdown",
      "metadata": {
        "id": "4NzyqehHjUlG"
      },
      "source": [
        "# ML in Cybersecurity: Project I\n",
        "\n",
        "## Team\n",
        "  * **Team name**:  $Mittwoch$\n",
        "  * **Members**:  Vilém Zouhar (vilem.zouhar@gmail.com), Philipp Zimmermann (s8phzimm@stud.uni-saarland.de) and Alina Leippert (alle00002@stud.uni-saarland.de)\n",
        "\n",
        "## Logistics\n",
        "  * **Due date**: 29th November 2020, 23:59:59 (email the completed notebook to mlcysec_ws2021_staff@lists.cispa.saarland)\n",
        "  * Complete this in **teams of 3**\n",
        "  * Feel free to use the course [mailing list](https://lists.cispa.saarland/listinfo/mlcysec_ws2021_stud) to find group members.\n",
        "  \n",
        "## Timeline\n",
        "  * 16-Nov-2020: Project 1 hand-out\n",
        "  * **29-Nov-2020** (23:59:59): Email the completed notebook to mlcysec_ws2021_staff@lists.cispa.saarland\n",
        "  * 30-Nov-2020: Project 1 discussion and summary\n",
        "  \n",
        "## About this Project\n",
        "In this project, you'll implement a digit classifier, based on the popular [MNIST](http://yann.lecun.com/exdb/mnist/) dataset. The dataset is based on a seminal [paper](http://yann.lecun.com/exdb/publis/pdf/lecun-01a.pdf), which immensely popularized (convolutional) neural networks. This is a great starting point for ML research and this dataset/model has been a stepping stone numerous other tasks such as [GANs](https://papers.nips.cc/paper/5423-generative-adversarial-nets.pdf), [Adversarial Perturbations](https://arxiv.org/abs/1412.6572) and so many more!\n",
        "\n",
        "This dataset consists of data $\\mathcal{D} = \\{x_i, y_i\\}_{i=1}^N$, where $x_i$ is a 28x28 pixel grayscale image and $y_i$ is a scalar represeting digits between 0-9. The notebook will guide you to load this data, implement classifiers $\\hat{y_i} = f_w(x_i)$  and analyze results. By doing so, you'll have a ML model that works on real data!\n",
        "\n",
        "To put things into context, have a look at Slide 21 in the [second](https://cms.cispa.saarland/mlcysec19/dl/4/2019-10-24-ml.pdf) lecture. Within this framework, the following blocks of this project are fixed:\n",
        "  * *Real-world problem*: Digit classification\n",
        "  * *Performance metric*: Mean accuracy i.e., $ \\frac{1}{N} \\sum_{i=1}^N \\mathbb{1}[\\hat{y_i} = y_i]$, where $\\mathbb{1}[\\hat{y_i} = y_i]$ is 1 if your model predicted the right digit for the $i$-th digit and 0 otherwise.\n",
        "  * *Data*: The MNIST dataset\n",
        "\n",
        "You'll make the the following design-choices:\n",
        " * *Choice of Model*: A model family (Non-parametric methods, Linear classifiers, Neural Networks, etc.)\n",
        " * *ML Model*: Specific model (e.g., SVM with a polynomial kernel)\n",
        " * *Loss/Risk*\n",
        " * *Optimization*\n",
        "\n",
        "\n",
        "## A Note on Grading\n",
        "The grading for this project will depend on:\n",
        " 1. Functional digit classifier\n",
        "   * Following a well-defined ML pipeline\n",
        "   * Developing 3 classification models (keep them diverse and ideally of increasing complexity)\n",
        "   * Obtaining reasonable accuracies (>80%) on a held-out test set\n",
        " 1. Analysis\n",
        "   * Which methods work better than the rest and why?\n",
        "   * Which hyper-parameters and design-choices were important in each of your methods?\n",
        "   * Quantifying influence of these hyper-parameters on loss and/or validation accuracies\n",
        "   * Trade-offs between methods, hyper-parameters, design-choices\n",
        "    * Anything else you find interesting (this part is open-ended)\n",
        "  \n",
        " A note on (1.): \n",
        "  * Choose your models that aids good insights. We require at least one non-Neural Network (e.g., SVM, KNN) and one Neural Network model (e.g., MLP, CNN).\n",
        "  * We definitely don't expect all three models to achieve >99% test accuracies!\n",
        "\n",
        "## Grading Details\n",
        " * 5 points for loading and visualization \n",
        " * 25x3 points for models. Per model:\n",
        "   * 4 points for written description \n",
        "   * 7 points for implementation\n",
        "   * 7 points for evaluation\n",
        "   * 7 points for summary\n",
        " * 15 points for final summary (Section 3)\n",
        " * 5 points for clean code\n",
        " \n",
        "## Filling-in the Notebook\n",
        "You'll be submitting this very notebook that is filled-in with your code and analysis. Make sure you submit one that has been previously executed in-order. (So that results/graphs are already visible upon opening it). \n",
        "\n",
        "The notebook you submit **should compile** (or should be self-contained and sufficiently commented). Check tutorial 1 on how to set up the Python3 environment.\n",
        "\n",
        "\n",
        "**The notebook is your project report. So, to make the report readable, omit code for techniques/models/things that did not work. You can use final summary to provide report about these codes.**\n",
        "\n",
        "It is extremely important that you **do not** re-order the existing sections. Apart from that, the code blocks that you need to fill-in are given by:\n",
        "```\n",
        "#\n",
        "#\n",
        "# ------- Your Code -------\n",
        "#\n",
        "#\n",
        "```\n",
        "Feel free to break this into multiple-cells. It's even better if you interleave explanations and code-blocks so that the entire notebook forms a readable \"story\".\n",
        "\n",
        "\n",
        "## Code of Honor\n",
        "We encourage discussing ideas and concepts with other students to help you learn and better understand the course content. However, the work you submit and present **must be original** and demonstrate your effort in solving the presented problems. **We will not tolerate** blatantly using existing solutions (such as from the internet), improper collaboration (e.g., sharing code or experimental data between groups) and plagiarism. If the honor code is not met, no points will be awarded.\n",
        "\n",
        " \n",
        " ## Versions\n",
        "  * v2.0: Added pytorch\n",
        "  * v1.1: Added Code of Honor\n",
        "  * v1.0: Initial notebook\n",
        "  \n",
        "  ---\n",
        "\n",
        "\n",
        "  ## Work\n",
        "\n",
        "- __Data loading and visualisation__: Vilda\n",
        "- __Model 1__: Alina\n",
        "- __Model 2__: Philipp\n",
        "- __Model 3__: Vilda\n",
        "- __Summary__: Philipp, Alina, Vilda"
      ]
    },
    {
      "cell_type": "code",
      "metadata": {
        "cellView": "code",
        "id": "3ewNwfFvbFaR"
      },
      "source": [
        "#@title\n",
        "import time \n",
        " \n",
        "import numpy as np \n",
        "import matplotlib.pyplot as plt \n",
        "\n",
        "import json \n",
        "import time \n",
        "import pickle \n",
        "import sys \n",
        "import csv \n",
        "import os \n",
        "import os.path as osp \n",
        "import shutil \n",
        "\n",
        "import pandas as pd\n",
        "\n",
        "from IPython.display import display, HTML\n",
        " \n",
        "%matplotlib inline \n",
        "plt.rcParams['figure.figsize'] = (10.0, 8.0) # set default size of plots \n",
        "plt.rcParams['image.interpolation'] = 'nearest' \n",
        "plt.rcParams['image.cmap'] = 'gray' \n",
        " \n",
        "# for auto-reloading external modules \n",
        "# see http://stackoverflow.com/questions/1907993/autoreload-of-modules-in-ipython \n",
        "%load_ext autoreload\n",
        "%autoreload 2"
      ],
      "execution_count": null,
      "outputs": []
    },
    {
      "cell_type": "code",
      "metadata": {
        "cellView": "code",
        "id": "640GrzbOevr0"
      },
      "source": [
        "#@title\n",
        "import torch, torchvision\n",
        "from torch import nn\n",
        "from torchvision import transforms\n",
        "import sklearn\n",
        "import PIL\n",
        "import random"
      ],
      "execution_count": null,
      "outputs": []
    },
    {
      "cell_type": "code",
      "metadata": {
        "id": "LjqUA45CgM5e"
      },
      "source": [
        "from sklearn.preprocessing import StandardScaler\n",
        "from sklearn.svm import SVC\n",
        "from sklearn.pipeline import Pipeline\n",
        "from sklearn.model_selection import GridSearchCV\n",
        "from sklearn.model_selection import PredefinedSplit\n",
        "from sklearn.metrics import confusion_matrix, classification_report"
      ],
      "execution_count": null,
      "outputs": []
    },
    {
      "cell_type": "markdown",
      "metadata": {
        "id": "nxi-lLD0mKHD"
      },
      "source": [
        "Helpers\n",
        "\n",
        "In case you choose to have some methods you plan to reuse during the notebook, define them here. This will avoid clutter and keep rest of the notebook succinct."
      ]
    },
    {
      "cell_type": "code",
      "metadata": {
        "cellView": "code",
        "id": "VBbigqdEmKd8"
      },
      "source": [
        "#@title\n",
        "\n",
        "def vis_predictions(x_eval, y_eval, y_pred, n_val):\n",
        "    rows, cols = 4, 3\n",
        "\n",
        "    fig,ax = plt.subplots(nrows = rows, ncols = cols)\n",
        "\n",
        "    ids = np.random.randint(0,n_val,rows*cols)\n",
        "    for i in range(cols):   \n",
        "        for j in range(rows):\n",
        "            ax[j][i].set_title(f'Correct: {y_eval[ids[(i*rows)+j]]}, Predicted: {y_pred[ids[(i*rows)+j]]}')\n",
        "            two_d = (np.reshape(x_eval[ids[(i*rows)+j]], (28, 28))).astype(np.uint8)\n",
        "            ax[j][i].imshow(two_d)\n",
        "            ax[j][i].axes.get_xaxis().set_visible(False)\n",
        "            ax[j][i].axes.get_yaxis().set_visible(False)\n",
        "\n",
        "\n",
        "    plt.tight_layout()  "
      ],
      "execution_count": null,
      "outputs": []
    },
    {
      "cell_type": "markdown",
      "metadata": {
        "id": "n1pcmKkyjT7y"
      },
      "source": [
        "# 1. Loading and Visualizing data (5 points)\n",
        "\n",
        "In this section, you'll need to prepare the MNIST data for the experiments you'll be conducting for the remainder of the notebook."
      ]
    },
    {
      "cell_type": "markdown",
      "metadata": {
        "id": "AIU9Q762fmoT"
      },
      "source": [
        "## 1.1. Load Data\n",
        "\n",
        "Here you'll load the MNIST data into memory. The end-goal is to two have the following variables:\n",
        "  * `x_trainval`, `x_test`: of shape $N \\times d_1 \\times d_2 \\dots$ (e.g., $N \\times 784$. 784 since you could flatten each 28x28 pixel image into a single vector)\n",
        "  * `y_trainval`, `y_test`: of shape $N \\times K$ (K = 1 or 10 depending on how you plan to represent the ground-truth digit annotation)\n",
        "\n",
        "You can either do this by:\n",
        "  1. Downloading the MNIST dataset, unpacking and preparing it yourself to have fine-grained control\n",
        "  1. Using high-level existing functions, such as the one provided by  [`torchvision.datasets`](https://pytorch.org/docs/stable/torchvision/datasets.html#mnist).\n",
        "  \n",
        "  \n",
        "  In either case, it is important that you have disjoint trainval and test splits!"
      ]
    },
    {
      "cell_type": "code",
      "metadata": {
        "colab": {
          "base_uri": "https://localhost:8080/",
          "height": 495,
          "referenced_widgets": [
            "e30c0db3863544d09790e42e5ca28ed0",
            "6a5d30482e28469a9176a10fab0f3055",
            "acbcce5a5e064e91a0958f56bcf430c9",
            "0ffc532b87b6475d81ac39257a3c8d6d",
            "d7a23d886fbc40c899b48a51d3d009d1",
            "8dc448e09de04123aa3ead96561f3572",
            "148ce8bf658b413088cffc4e4bf16ffa",
            "09039ed223684b62822b57fb361c4d0f",
            "95f7394ed74741e0ab5205bddeca17fd",
            "2b8579f716954f1680d1808df9d535ba",
            "e9b79307aaaf4b0b81e7e3ce4fdb1383",
            "597b8528a9ca41ac9e9451c1b931a131",
            "98564e4c2aed467cb9e2a50d11fd7b10",
            "6b0548bdef8f47b4997669c34a5d9d5b",
            "8a13f7d3e89a44589af0bfbc035cf2d9",
            "b773d2090b35416bb7ce16a24ff97d4b",
            "eae4983ab66b4ff3838c25b0ce7a84c1",
            "91a908deddae450094fda87370006bff",
            "088a2d47c6a940db95bd941a3f4eb94a",
            "d3bc43c99c474383a0b8f2930430b6f3",
            "49ecbf1c815f468aa5d2678b13b147e0",
            "630faa4222734eddb8016ac673846fea",
            "181e1652eb68434c81cbc2b216b4fb20",
            "bdd41d05fff446d5b6685f4a2af087a4",
            "18d0815e3fe34a6494aa103ea205efce",
            "d0089878a48242ec8621cbffb35e769d",
            "f06e66dbed2c466491b6466ec3c1a159",
            "802d0ab3287946ff99ba589a5d9580b5",
            "8b933532e76446b2b3a07f5146b98947",
            "ba0d6d38998d46b098f4d3e2f30e7b03",
            "e9e2615b08f64070b05694a5699ba27f",
            "e6239b4cb5304bcaa6d404c6fae5393b"
          ]
        },
        "id": "7kYacpo_jvao",
        "outputId": "24f09c4d-29e8-4892-cc01-26f2911b54eb"
      },
      "source": [
        "torch.manual_seed(0)\n",
        "transform = transforms.Compose([\n",
        "  transforms.ToTensor(),\n",
        "  transforms.Normalize((0.5,), (0.5,)),\n",
        "])\n",
        "\n",
        "VALIDATION_FRAC = 0.40\n",
        "\n",
        "data_train = list(torchvision.datasets.MNIST('.', train=True, download=True, transform=transform))\n",
        "data_test  = list(torchvision.datasets.MNIST('.', train=False, download=True, transform=transform))\n",
        "\n",
        "random.seed(0)\n",
        "random.shuffle(data_test)\n",
        "data_valid = data_test[:int(len(data_test)*VALIDATION_FRAC)]\n",
        "data_test  = data_test[int(len(data_test)*VALIDATION_FRAC):]\n",
        "\n",
        "# DEBUG: remove this for final training\n",
        "# DEBUG_FRAC = 0.20\n",
        "# data_train = data_train[:int(len(data_train)*DEBUG_FRAC)]\n",
        "\n",
        "# Data loaded as tuples of a PIL image and label\n",
        "print(f'len(data_train) = {len(data_train)}')\n",
        "print(f'len(data_valid) = {len(data_valid)}')\n",
        "print(f'len(data_test)  = {len(data_test)}')\n"
      ],
      "execution_count": null,
      "outputs": [
        {
          "output_type": "stream",
          "text": [
            "Downloading http://yann.lecun.com/exdb/mnist/train-images-idx3-ubyte.gz to ./MNIST/raw/train-images-idx3-ubyte.gz\n"
          ],
          "name": "stdout"
        },
        {
          "output_type": "display_data",
          "data": {
            "application/vnd.jupyter.widget-view+json": {
              "model_id": "e30c0db3863544d09790e42e5ca28ed0",
              "version_minor": 0,
              "version_major": 2
            },
            "text/plain": [
              "HBox(children=(FloatProgress(value=1.0, bar_style='info', max=1.0), HTML(value='')))"
            ]
          },
          "metadata": {
            "tags": []
          }
        },
        {
          "output_type": "stream",
          "text": [
            "Extracting ./MNIST/raw/train-images-idx3-ubyte.gz to ./MNIST/raw\n",
            "\n",
            "Downloading http://yann.lecun.com/exdb/mnist/train-labels-idx1-ubyte.gz to ./MNIST/raw/train-labels-idx1-ubyte.gz\n"
          ],
          "name": "stdout"
        },
        {
          "output_type": "display_data",
          "data": {
            "application/vnd.jupyter.widget-view+json": {
              "model_id": "95f7394ed74741e0ab5205bddeca17fd",
              "version_minor": 0,
              "version_major": 2
            },
            "text/plain": [
              "HBox(children=(FloatProgress(value=1.0, bar_style='info', max=1.0), HTML(value='')))"
            ]
          },
          "metadata": {
            "tags": []
          }
        },
        {
          "output_type": "stream",
          "text": [
            "Extracting ./MNIST/raw/train-labels-idx1-ubyte.gz to ./MNIST/raw\n",
            "Downloading http://yann.lecun.com/exdb/mnist/t10k-images-idx3-ubyte.gz to ./MNIST/raw/t10k-images-idx3-ubyte.gz\n"
          ],
          "name": "stdout"
        },
        {
          "output_type": "display_data",
          "data": {
            "application/vnd.jupyter.widget-view+json": {
              "model_id": "eae4983ab66b4ff3838c25b0ce7a84c1",
              "version_minor": 0,
              "version_major": 2
            },
            "text/plain": [
              "HBox(children=(FloatProgress(value=1.0, bar_style='info', max=1.0), HTML(value='')))"
            ]
          },
          "metadata": {
            "tags": []
          }
        },
        {
          "output_type": "stream",
          "text": [
            "Extracting ./MNIST/raw/t10k-images-idx3-ubyte.gz to ./MNIST/raw\n",
            "Downloading http://yann.lecun.com/exdb/mnist/t10k-labels-idx1-ubyte.gz to ./MNIST/raw/t10k-labels-idx1-ubyte.gz\n"
          ],
          "name": "stdout"
        },
        {
          "output_type": "display_data",
          "data": {
            "application/vnd.jupyter.widget-view+json": {
              "model_id": "18d0815e3fe34a6494aa103ea205efce",
              "version_minor": 0,
              "version_major": 2
            },
            "text/plain": [
              "HBox(children=(FloatProgress(value=1.0, bar_style='info', max=1.0), HTML(value='')))"
            ]
          },
          "metadata": {
            "tags": []
          }
        },
        {
          "output_type": "stream",
          "text": [
            "Extracting ./MNIST/raw/t10k-labels-idx1-ubyte.gz to ./MNIST/raw\n",
            "Processing...\n",
            "Done!\n"
          ],
          "name": "stdout"
        },
        {
          "output_type": "stream",
          "text": [
            "/usr/local/lib/python3.6/dist-packages/torchvision/datasets/mnist.py:480: UserWarning: The given NumPy array is not writeable, and PyTorch does not support non-writeable tensors. This means you can write to the underlying (supposedly non-writeable) NumPy array using the tensor. You may want to copy the array to protect its data or make it writeable before converting it to a tensor. This type of warning will be suppressed for the rest of this program. (Triggered internally at  /pytorch/torch/csrc/utils/tensor_numpy.cpp:141.)\n",
            "  return torch.from_numpy(parsed.astype(m[2], copy=False)).view(*s)\n"
          ],
          "name": "stderr"
        },
        {
          "output_type": "stream",
          "text": [
            "\n",
            "\n",
            "\n",
            "len(data_train) = 60000\n",
            "len(data_valid) = 4000\n",
            "len(data_test)  = 6000\n"
          ],
          "name": "stdout"
        }
      ]
    },
    {
      "cell_type": "markdown",
      "metadata": {
        "id": "eA6_cejNjzYw"
      },
      "source": [
        "## 1.2. Visualize Data\n",
        "\n",
        "To get the hang of your data you'll be training a digit classifier on, visualize it.\n",
        "\n",
        "Examples of ways to visualize it:\n",
        "  * Given a digit, display few randomly sampled images for this digit (the bare minimum)\n",
        "  * Visualize as a grid (e.g., Slide 4, [Lecture 2](https://cms.cispa.saarland/mlcysec19/dl/4/2019-10-24-ml.pdf)) using a combination of `plt.imshow` and `plt.subplots`\n",
        "  \n",
        "It's up to you to decide how you want to do this. The end-goal is for you to potentially give a trailer of the dataset to someone who hasn't seen it before."
      ]
    },
    {
      "cell_type": "code",
      "metadata": {
        "colab": {
          "base_uri": "https://localhost:8080/",
          "height": 248
        },
        "id": "dISIbt4plyoD",
        "outputId": "ee00fe77-72a0-44c4-a5a8-71caf8b22767"
      },
      "source": [
        "rows, cols = 10, 10\n",
        "fig, ax = plt.subplots(nrows = rows, ncols = cols)\n",
        "\n",
        "for col in range(cols):\n",
        "  imgs = [img for (img, label) in data_train if label == col][:rows]\n",
        "  for row in range(rows):\n",
        "    ax[row][col].imshow(imgs[row].numpy().squeeze())\n",
        "    ax[row][col].set_axis_off()\n",
        "\n",
        "plt.savefig('fig1.pdf')\n",
        "plt.show()"
      ],
      "execution_count": null,
      "outputs": [
        {
          "output_type": "display_data",
          "data": {
            "image/png": "[encoded data removed]",
            "text/plain": [
              "<Figure size 432x288 with 100 Axes>"
            ]
          },
          "metadata": {
            "tags": [],
            "needs_background": "light"
          }
        }
      ]
    },
    {
      "cell_type": "markdown",
      "metadata": {
        "id": "b8sAT53jmJ8_"
      },
      "source": [
        "# 2. Digit classifiers\n",
        "\n",
        "In this section, you'll begin developing models to perform digit classification.\n",
        "\n",
        "Each model needs to be structured like so:\n",
        "  1. Give a brief reason which model you are going to train and why you choose it\n",
        "  1. Define hyper-parameters for model and optimization procedure\n",
        "  1. Define your model\n",
        "  1. Define optimization method and fit model to data\n",
        "  1. Summarize your findings\n",
        "\n",
        "\n",
        "\n",
        "\n",
        "\n"
      ]
    },
    {
      "cell_type": "markdown",
      "metadata": {
        "id": "xkF-7eFnpWoe"
      },
      "source": [
        "## 2.1: Model [M1]: Support Vector Machine (25 points)\n",
        "\n",
        "Classifying MNIST data with a Support Vector Machine using SKlearn. Based on [1](https://towardsdatascience.com/support-vector-machine-mnist-digit-classification-with-python-including-my-hand-written-digits-83d6eca7004a) and [2](https://www.vebuso.com/2020/03/svm-hyperparameter-tuning-using-gridsearchcv/) on MNIST classification and SVM hyperparamater tuning, and StackOverflow [question](https://stackoverflow.com/questions/48390601/explicitly-specifying-test-train-sets-in-gridsearchcv)."
      ]
    },
    {
      "cell_type": "markdown",
      "metadata": {
        "id": "lVyT9Oddp3GB"
      },
      "source": [
        "### 2.1.1: Hyper-parameters\n",
        "\n",
        "Since SVM training on the whole dataset takes quite long, it is made possible to choose here whether to train on a subset (10% of the dataset) or on the whole dataset.\n",
        "Doing GridSearchCV for finding the best params for the SVM is possible for subset training, but Colab collapses when performing that on the whole dataset.\n",
        "The best parameters found from GridSearch on the subset are provided here when  training is set to the whole dataset."
      ]
    },
    {
      "cell_type": "code",
      "metadata": {
        "id": "yuHt4T7Vp5NC"
      },
      "source": [
        "# enable training on smaller portion of the data to use GridSearch \n",
        "train_on_subset = True  # set to False to train on whole dataset, set to True to train on 10% of the data\n",
        "\n",
        "# SVM parameters for GridSearchCv\n",
        "parameters = {'SVM__C':[0.01,0.1, 1], 'SVM__gamma':[0.1,0.01,0.001], 'SVM__kernel':['rbf','linear','poly','sigmoid']}"
      ],
      "execution_count": null,
      "outputs": []
    },
    {
      "cell_type": "markdown",
      "metadata": {
        "id": "IA7AE3fz9p-Y"
      },
      "source": [
        "### 2.1.2: Data Preprocessing\n"
      ]
    },
    {
      "cell_type": "code",
      "metadata": {
        "id": "6FLq8v7D9p-a"
      },
      "source": [
        "# shuffle data\n",
        "random.seed(42)\n",
        "random.shuffle(data_train)\n",
        "random.shuffle(data_valid)\n",
        "\n",
        "# reshape image tensors to two dimensions (from [1,28,28] to [28,28]) and flatten to get 2d array of shape (60000, 784)\n",
        "x_train_data = [d[0].resize_([28,28]).flatten() for d in data_train]\n",
        "y_train_data = [d[1] for d in data_train]\n",
        "x_val_data = [d[0].resize_([28,28]).flatten() for d in data_valid]\n",
        "y_val_data = [d[1] for d in data_valid]\n",
        "x_test_data = [d[0].resize_([28,28]).flatten() for d in data_test]\n",
        "y_test_data = [d[1] for d in data_test]\n",
        "\n",
        "# convert tensors/lists to numpy array\n",
        "x_train = np.array([t.numpy() for t in x_train_data])\n",
        "x_val = np.array([t.numpy() for t in x_val_data])\n",
        "x_test = np.array([t.numpy() for t in x_test_data])\n",
        "y_train = np.array(y_train_data)\n",
        "y_val = np.array(y_val_data)\n",
        "y_test = np.array(y_test_data)"
      ],
      "execution_count": null,
      "outputs": []
    },
    {
      "cell_type": "code",
      "metadata": {
        "id": "xiRVNCEKh4lZ"
      },
      "source": [
        "# train on 10% of the dataset\n",
        "x_train_small = x_train[0:6000]\n",
        "y_train_small = y_train[0:6000]\n",
        "x_val_small = x_val[0:250]\n",
        "y_val_small = y_val[0:250]\n",
        "\n",
        "x_train_val = np.concatenate((x_train_small, x_val_small), axis=0)\n",
        "y_train_val = np.concatenate((y_train_small, y_val_small), axis=0)\n",
        "\n",
        "# set up testing on validation data for grid search\n",
        "# indices with value -1 are kept in train\n",
        "train_indices_small = np.full((6000,), -1, dtype=int)\n",
        "# indices with zero value are kept in test for GridSearchCV\n",
        "val_indices_small = np.full((250,), 0, dtype=int)\n",
        "\n",
        "val_fold = np.append(train_indices_small, val_indices_small)"
      ],
      "execution_count": null,
      "outputs": []
    },
    {
      "cell_type": "markdown",
      "metadata": {
        "id": "pkuCgPatp59X"
      },
      "source": [
        "### 2.1.3: Model\n",
        "\n",
        "Define your model here"
      ]
    },
    {
      "cell_type": "code",
      "metadata": {
        "id": "3qV3SuPAp6XF",
        "colab": {
          "base_uri": "https://localhost:8080/"
        },
        "outputId": "449b4a5c-234c-44f1-8565-aa912f4a29a9"
      },
      "source": [
        "steps = [('scaler', StandardScaler()), ('SVM',SVC())]\n",
        "pipeline = Pipeline(steps) # define Pipeline object\n",
        "\n",
        "# testing GridSearch on validation set instead of cross validating on training set\n",
        "ps = PredefinedSplit(val_fold)\n",
        "print(ps.get_n_splits()) # num splits; output should be 1\n",
        "\n",
        "grid = GridSearchCV(pipeline, param_grid=parameters, cv=ps, n_jobs=-1, return_train_score=True)"
      ],
      "execution_count": null,
      "outputs": [
        {
          "output_type": "stream",
          "text": [
            "1\n"
          ],
          "name": "stdout"
        }
      ]
    },
    {
      "cell_type": "markdown",
      "metadata": {
        "id": "SxE6d6OXp6sU"
      },
      "source": [
        "### 2.1.4: Fit Model\n",
        "\n",
        "Define optimization procedure and fit your model to the data"
      ]
    },
    {
      "cell_type": "code",
      "metadata": {
        "id": "08tLwuchp68-",
        "colab": {
          "base_uri": "https://localhost:8080/"
        },
        "outputId": "98504f9b-b633-4823-a13b-97ef399572fe"
      },
      "source": [
        "_ = grid.fit(x_train_val, y_train_val)"
      ],
      "execution_count": null,
      "outputs": [
        {
          "output_type": "execute_result",
          "data": {
            "text/plain": [
              "GridSearchCV(cv=PredefinedSplit(test_fold=array([-1, -1, ...,  0,  0])),\n",
              "             error_score=nan,\n",
              "             estimator=Pipeline(memory=None,\n",
              "                                steps=[('scaler',\n",
              "                                        StandardScaler(copy=True,\n",
              "                                                       with_mean=True,\n",
              "                                                       with_std=True)),\n",
              "                                       ('SVM',\n",
              "                                        SVC(C=1.0, break_ties=False,\n",
              "                                            cache_size=200, class_weight=None,\n",
              "                                            coef0=0.0,\n",
              "                                            decision_function_shape='ovr',\n",
              "                                            degree=3, gamma='scale',\n",
              "                                            kernel='rbf', max_iter=-1,\n",
              "                                            probability=False,\n",
              "                                            random_state=None, shrinking=True,\n",
              "                                            tol=0.001, verbose=False))],\n",
              "                                verbose=False),\n",
              "             iid='deprecated', n_jobs=-1,\n",
              "             param_grid={'SVM__C': [0.01, 0.1, 1],\n",
              "                         'SVM__gamma': [0.1, 0.01, 0.001],\n",
              "                         'SVM__kernel': ['rbf', 'linear', 'poly', 'sigmoid']},\n",
              "             pre_dispatch='2*n_jobs', refit=True, return_train_score=True,\n",
              "             scoring=None, verbose=0)"
            ]
          },
          "metadata": {
            "tags": []
          },
          "execution_count": 70
        }
      ]
    },
    {
      "cell_type": "code",
      "metadata": {
        "id": "007h2skg9p_C",
        "colab": {
          "base_uri": "https://localhost:8080/",
          "height": 441
        },
        "outputId": "61df0069-8449-4d30-d1fd-e8c02207ad82"
      },
      "source": [
        "# print(grid.cv_results_)\n",
        "fig = plt.figure(figsize=(9,5))\n",
        "paramaxis = [f\"{x['SVM__C']} {x['SVM__gamma']} {x['SVM__kernel']}\" for x in grid.cv_results_['params']]\n",
        "sortperm = list(range(len(paramaxis)))\n",
        "sortperm.sort(key=lambda x: grid.cv_results_['mean_train_score'][x])\n",
        "paramaxis = [paramaxis[s] for s in sortperm]\n",
        "\n",
        "acc_test_sorted = [grid.cv_results_['mean_test_score'][s] for s in sortperm]\n",
        "acc_train_sorted = [grid.cv_results_['mean_train_score'][s] for s in sortperm]\n",
        "plt.plot(acc_test_sorted, label='Valid accuracy')\n",
        "plt.plot(acc_train_sorted, label='Train accuracy')\n",
        "plt.legend()\n",
        "plt.ylabel('Accuracy')\n",
        "_ = plt.xticks(range(len(paramaxis)), paramaxis, rotation ='vertical')\n",
        "\n",
        "print(f'Average fit time: {np.average(grid.cv_results_[\"mean_fit_time\"]):.2f}s')\n",
        "print(f'Average inference time: {np.average(grid.cv_results_[\"mean_score_time\"]):.2f}s')"
      ],
      "execution_count": null,
      "outputs": [
        {
          "output_type": "stream",
          "text": [
            "Average fit time: 33.08s\n",
            "Average inference time: 1.15s\n"
          ],
          "name": "stdout"
        },
        {
          "output_type": "display_data",
          "data": {
            "image/png": "[encoded data removed]",
            "text/plain": [
              "<Figure size 648x360 with 1 Axes>"
            ]
          },
          "metadata": {
            "tags": [],
            "needs_background": "light"
          }
        }
      ]
    },
    {
      "cell_type": "markdown",
      "metadata": {
        "id": "QaJv_d_Dp7OM"
      },
      "source": [
        "### 2.1.5: Evaluation\n",
        "\n",
        "<!-- Evaluate your model.\n",
        "  * Evaluate models with different parameters \n",
        "  * Plot the score (accuracy) for each model using \"plot_scores\" function\n",
        "  * Report score for the best model\n",
        "  * Use \"vis_predictions\" function to visualize few examples of test/validation set with the corresponding predictions -->\n",
        "\n",
        "There is no concept of epoch training nor gradients in GridSearch. The training instances are independent. In order to make the results legible, we sorted the instances in ascending order of train accuracy. Interestingly enough, multiple hyperparameters fitted the training data perfectly. We chose one of them:\n",
        "\n",
        "```\n",
        "SVM__C: 0.01, SVM__gamma: 0.1, SVM__kernel: poly\n",
        "```\n",
        "\n",
        "and used this for all data."
      ]
    },
    {
      "cell_type": "code",
      "metadata": {
        "id": "mrF8oFldEnyi",
        "colab": {
          "base_uri": "https://localhost:8080/"
        },
        "outputId": "cfcb60a2-7f1a-4107-8e0c-c5a11a84c719"
      },
      "source": [
        "print(\"Fitting on the best valid data parameters:\", grid.best_params_)\n",
        "parameters = {'SVM__C':[0.01], 'SVM__gamma':[0.1], 'SVM__kernel':['poly']}\n",
        "\n",
        "x_train_val = np.concatenate((x_train, x_val), axis=0)\n",
        "y_train_val = np.concatenate((y_train, y_val), axis=0)\n",
        "# indices with value -1 are kept in train\n",
        "train_indices = np.full((60000,), -1, dtype=int)\n",
        "# indices with zero value are kept in test for GridSearchCV\n",
        "val_indices = np.full((2500,), 0, dtype=int)\n",
        "val_fold = np.append(train_indices, val_indices)\n",
        "\n",
        "steps = [('scaler', StandardScaler()), ('SVM',SVC())]\n",
        "pipeline = Pipeline(steps)\n",
        "ps = PredefinedSplit(val_fold)\n",
        "\n",
        "gridF = GridSearchCV(pipeline, param_grid=parameters, cv=ps, n_jobs=-1, return_train_score=True)\n",
        "\n",
        "_ = gridF.fit(x_train_val, y_train_val)\n"
      ],
      "execution_count": null,
      "outputs": [
        {
          "output_type": "execute_result",
          "data": {
            "text/plain": [
              "GridSearchCV(cv=PredefinedSplit(test_fold=array([-1, -1, ...,  0,  0])),\n",
              "             error_score=nan,\n",
              "             estimator=Pipeline(memory=None,\n",
              "                                steps=[('scaler',\n",
              "                                        StandardScaler(copy=True,\n",
              "                                                       with_mean=True,\n",
              "                                                       with_std=True)),\n",
              "                                       ('SVM',\n",
              "                                        SVC(C=1.0, break_ties=False,\n",
              "                                            cache_size=200, class_weight=None,\n",
              "                                            coef0=0.0,\n",
              "                                            decision_function_shape='ovr',\n",
              "                                            degree=3, gamma='scale',\n",
              "                                            kernel='rbf', max_iter=-1,\n",
              "                                            probability=False,\n",
              "                                            random_state=None, shrinking=True,\n",
              "                                            tol=0.001, verbose=False))],\n",
              "                                verbose=False),\n",
              "             iid='deprecated', n_jobs=-1,\n",
              "             param_grid={'SVM__C': [0.01], 'SVM__gamma': [0.1],\n",
              "                         'SVM__kernel': ['poly']},\n",
              "             pre_dispatch='2*n_jobs', refit=True, return_train_score=True,\n",
              "             scoring=None, verbose=0)"
            ]
          },
          "metadata": {
            "tags": []
          },
          "execution_count": 83
        }
      ]
    },
    {
      "cell_type": "code",
      "metadata": {
        "colab": {
          "base_uri": "https://localhost:8080/"
        },
        "id": "oKiKhCSjGKLv",
        "outputId": "b5cb0708-62cb-4187-801c-fbc6b9195b9d"
      },
      "source": [
        "print(f\"Final train accuracy: {gridF.cv_results_['mean_train_score'][0]*100:.2f}%\")\n",
        "print(f\"Final valid accuracy: {gridF.cv_results_['mean_test_score'][0]*100:.2f}%\")\n",
        "print(f'Final fit time: {np.average(gridF.cv_results_[\"mean_fit_time\"]):.2f}s')\n",
        "print(f'Final inference time: {np.average(gridF.cv_results_[\"mean_score_time\"]):.2f}s')"
      ],
      "execution_count": null,
      "outputs": [
        {
          "output_type": "stream",
          "text": [
            "Final train accuracy: 100.00%\n",
            "Final valid accuracy: 97.92%\n",
            "Final fit time: 872.84s\n",
            "Final inference time: 40.87s\n"
          ],
          "name": "stdout"
        }
      ]
    },
    {
      "cell_type": "code",
      "metadata": {
        "id": "7L6scfTR9p_O",
        "colab": {
          "base_uri": "https://localhost:8080/",
          "height": 602
        },
        "outputId": "9a1efa98-cc68-47d2-b149-dbbf40fbbaf0"
      },
      "source": [
        "print(f\"Final test accuracy: {gridF.score(x_test, y_test)*100:.2f}%\")\n",
        "y_pred = gridF.predict(x_test)\n",
        "index_bad = [i for i in range(len(y_pred)) if y_test[i] != y_pred[i]]\n",
        "y_pred_bad =  [y_pred[i] for i in index_bad]\n",
        "y_test_bad =  [y_test[i] for i in index_bad]\n",
        "x_test_bad =  [x_test[i] for i in index_bad]\n",
        "vis_predictions(x_test_bad, y_test_bad, y_pred_bad, len(x_test_bad))"
      ],
      "execution_count": null,
      "outputs": [
        {
          "output_type": "stream",
          "text": [
            "Final test accuracy: 98.03%\n"
          ],
          "name": "stdout"
        },
        {
          "output_type": "display_data",
          "data": {
            "image/png": "[encoded data removed]",
            "text/plain": [
              "<Figure size 720x576 with 12 Axes>"
            ]
          },
          "metadata": {
            "tags": [],
            "needs_background": "light"
          }
        }
      ]
    },
    {
      "cell_type": "markdown",
      "metadata": {
        "id": "DEQrdyLHsUIu"
      },
      "source": [
        "### 2.1.6: Summary\n",
        "<!-- \n",
        "Summarize your findings:\n",
        " * Which hyper-parameters were important and how did they influence your results?\n",
        " * What were other design choices you faced?\n",
        " * Any other interesting insights... -->\n",
        "\n",
        "The SVM performs very good on this task, scoring an accuracy of 98.03% on the test set. Several hyperparameters were found to be performing equally well on the data. In general, the polynomial kernel was found to be best fitting the data by GridSearch. "
      ]
    },
    {
      "cell_type": "markdown",
      "metadata": {
        "id": "Fcq52WUUs2Mm"
      },
      "source": [
        "## 2.2: Model [M2] (Neural Networks): Fully Connected (25 points)\n",
        "\n",
        "\n"
      ]
    },
    {
      "cell_type": "markdown",
      "metadata": {
        "id": "CLkBvjMB9p_W"
      },
      "source": [
        "### 2.2.1: Hyper-parameters\n",
        "\n",
        "Define hyper-parameters for your method here"
      ]
    },
    {
      "cell_type": "code",
      "metadata": {
        "colab": {
          "base_uri": "https://localhost:8080/"
        },
        "id": "hEpN0AQs9p_X",
        "outputId": "cf82169c-ef6a-4675-a9d2-90465775f87e"
      },
      "source": [
        "torch.manual_seed(0)\n",
        "NUM_EPOCHS = 60\n",
        "BATCH_SIZE = 64\n",
        "LEARNING_RATE = 0.0005\n",
        "DEVICE = torch.device(\"cuda\" if torch.cuda.is_available() else \"cpu\")\n",
        "print('Running on', DEVICE)"
      ],
      "execution_count": null,
      "outputs": [
        {
          "output_type": "stream",
          "text": [
            "Running on cuda\n"
          ],
          "name": "stdout"
        }
      ]
    },
    {
      "cell_type": "markdown",
      "metadata": {
        "id": "a6OsuExU9p_d"
      },
      "source": [
        "### 2.2.2: Data Preprocessing\n"
      ]
    },
    {
      "cell_type": "code",
      "metadata": {
        "id": "8irm4UlG9p_e"
      },
      "source": [
        "# Prepair dataset\n",
        "def get_data(data):\n",
        "    data_new = []\n",
        "    for (img, label) in data:\n",
        "        img = np.reshape(img, (28,28))\n",
        "        tens = img.type(torch.FloatTensor)\n",
        "        # flatten\n",
        "        tens = tens.view(1, 784)\n",
        "        data_new.append([tens, label])\n",
        "    return data_new\n",
        "\n",
        "training_data = get_data(data_train)\n",
        "evaluation_data = get_data(data_valid)\n",
        "\n",
        "data_train_loader = torch.utils.data.DataLoader(training_data, batch_size=BATCH_SIZE, shuffle=True, num_workers=0)\n",
        "data_eval_loader = torch.utils.data.DataLoader(evaluation_data, batch_size=BATCH_SIZE, shuffle=False, num_workers=0)"
      ],
      "execution_count": null,
      "outputs": []
    },
    {
      "cell_type": "markdown",
      "metadata": {
        "id": "fsY5mqvC9p_j"
      },
      "source": [
        "### 2.2.3: Model\n",
        "\n",
        "Define your model here (all hyper-parameters in 2.1.1)"
      ]
    },
    {
      "cell_type": "code",
      "metadata": {
        "id": "VBTRx2V79p_k"
      },
      "source": [
        "# Define model\n",
        "class M2(nn.Module):\n",
        "    \n",
        "    def __init__(self):\n",
        "        super(M2, self).__init__()\n",
        "        \n",
        "        # fully connected layers\n",
        "        self.fc1 = nn.Linear(784, 512)\n",
        "        self.do1 = nn.Dropout(p=0.4)\n",
        "        self.fc2 = nn.Linear(512, 256)\n",
        "        self.do2 = nn.Dropout(p=0.3)\n",
        "        self.fc3 = nn.Linear(256, 128)\n",
        "        self.do3 = nn.Dropout(p=0.1)\n",
        "        self.fc4 = nn.Linear(128, 10)\n",
        "    \n",
        "        self.rl = nn.ReLU()\n",
        "\n",
        "    def forward(self, x):\n",
        "      x = self.fc1(x)\n",
        "      x = self.rl(x)\n",
        "      x = self.do1(x)\n",
        "      x = self.fc2(x)\n",
        "      x = self.rl(x)\n",
        "      x = self.do2(x)\n",
        "      x = self.fc3(x)\n",
        "      x = self.rl(x)\n",
        "      x = self.do3(x)\n",
        "      x = self.fc4(x)\n",
        "      return x\n",
        "\n",
        "# Create Model\n",
        "model = M2().to(DEVICE)\n",
        "\n",
        "loss_fn = nn.CrossEntropyLoss()\n",
        "optimizer = torch.optim.Adam(model.parameters(), lr=LEARNING_RATE)\n",
        "\n",
        "if not os.path.exists('models_m2'):\n",
        "  os.system('mkdir models_m2')"
      ],
      "execution_count": null,
      "outputs": []
    },
    {
      "cell_type": "markdown",
      "metadata": {
        "id": "WoEu658I9p_r"
      },
      "source": [
        "### 2.2.4: Fit Model\n"
      ]
    },
    {
      "cell_type": "code",
      "metadata": {
        "colab": {
          "base_uri": "https://localhost:8080/"
        },
        "id": "096oMCPO9p_s",
        "outputId": "9b86ea62-b44f-440c-9b11-b5a3d1d0a0df"
      },
      "source": [
        "epoch_data = {\n",
        "    'eval_loss': [],\n",
        "    'train_loss': [],\n",
        "    'eval_acc': []\n",
        "}\n",
        "\n",
        "max_acc = 0.0\n",
        "\n",
        "# Fit model\n",
        "for epoch in range(NUM_EPOCHS):\n",
        "    train_loss = 0\n",
        "    eval_loss = 0\n",
        "    eval_acc = 0\n",
        "\n",
        "    misses = 0\n",
        "    \n",
        "    # training\n",
        "    model.train()\n",
        "    for inputs, labels in data_train_loader:\n",
        "        inputs = inputs.to(DEVICE)\n",
        "        labels = labels.to(DEVICE)\n",
        "\n",
        "        optimizer.zero_grad()\n",
        "        \n",
        "        # forward\n",
        "        output = model(inputs)\n",
        "        output = output.view(-1, 10)\n",
        "        loss = loss_fn(output, labels)\n",
        "\n",
        "        # backward + optimization\n",
        "        loss.backward()\n",
        "        optimizer.step()\n",
        "        train_loss += loss.item()*inputs.size(0)\n",
        "\n",
        "    # evaluating\n",
        "    model.eval()\n",
        "    for inputs, labels in data_eval_loader:\n",
        "        inputs = inputs.to(DEVICE)\n",
        "        labels = labels.to(DEVICE)\n",
        "\n",
        "        # forward\n",
        "        out = model(inputs)\n",
        "        out = out.view(-1, 10)\n",
        "        e_loss = loss_fn(out, labels)\n",
        "        eval_loss += e_loss.item()*inputs.size(0)\n",
        "        \n",
        "        # calculate predictions & accuracy\n",
        "        _, pred = torch.max(out, 1)\n",
        "        eval_acc += torch.sum(pred == labels)\n",
        "\n",
        "        # count prediction misses\n",
        "        preds = (pred == labels)\n",
        "        for x in range(len(preds)):\n",
        "            if not preds[x]:\n",
        "                misses += 1\n",
        "        \n",
        "    # calculate data\n",
        "    train_loss = train_loss/len(data_train_loader.dataset)\n",
        "    eval_loss = eval_loss/len(data_eval_loader.dataset)\n",
        "    eval_acc = eval_acc/len(data_eval_loader.dataset)\n",
        "\n",
        "    # store data for plot\n",
        "    epoch_data['eval_acc'] += [eval_acc]\n",
        "    epoch_data['eval_loss'] += [eval_loss]\n",
        "    epoch_data['train_loss'] += [train_loss]\n",
        "\n",
        "    # print epoch statistics \n",
        "    print('-'*10, f'Epoch {epoch:<2}', '-'*10)\n",
        "    print(f'Training/Validation Loss:   {train_loss:.4f}/{eval_loss:.4f}')\n",
        "    print(f'Validation Acc:             {eval_acc:.4f} ({misses:>3} bad)')\n",
        "\n",
        "    # save model if validation loss has decreased\n",
        "    if eval_acc >= max_acc:\n",
        "        print(f'Saving ({eval_acc:.6f} >= {max_acc:.6f})')\n",
        "        torch.save(model.state_dict(), f'models_m2/epoch_{epoch:03}.pt')\n",
        "        max_acc = eval_acc"
      ],
      "execution_count": null,
      "outputs": [
        {
          "output_type": "stream",
          "text": [
            "---------- Epoch 0  ----------\n",
            "Training/Validation Loss:   0.4688/0.1979\n",
            "Validation Acc:             0.9405 (238 bad)\n",
            "Saving (0.940500 >= 0.000000)\n",
            "---------- Epoch 1  ----------\n",
            "Training/Validation Loss:   0.2333/0.1585\n",
            "Validation Acc:             0.9470 (212 bad)\n",
            "Saving (0.947000 >= 0.940500)\n",
            "---------- Epoch 2  ----------\n",
            "Training/Validation Loss:   0.1879/0.1264\n",
            "Validation Acc:             0.9613 (155 bad)\n",
            "Saving (0.961250 >= 0.947000)\n",
            "---------- Epoch 3  ----------\n",
            "Training/Validation Loss:   0.1683/0.1056\n",
            "Validation Acc:             0.9668 (133 bad)\n",
            "Saving (0.966750 >= 0.961250)\n",
            "---------- Epoch 4  ----------\n",
            "Training/Validation Loss:   0.1486/0.0971\n",
            "Validation Acc:             0.9690 (124 bad)\n",
            "Saving (0.969000 >= 0.966750)\n",
            "---------- Epoch 5  ----------\n",
            "Training/Validation Loss:   0.1349/0.0895\n",
            "Validation Acc:             0.9723 (111 bad)\n",
            "Saving (0.972250 >= 0.969000)\n",
            "---------- Epoch 6  ----------\n",
            "Training/Validation Loss:   0.1297/0.0886\n",
            "Validation Acc:             0.9708 (117 bad)\n",
            "---------- Epoch 7  ----------\n",
            "Training/Validation Loss:   0.1188/0.0914\n",
            "Validation Acc:             0.9695 (122 bad)\n",
            "---------- Epoch 8  ----------\n",
            "Training/Validation Loss:   0.1129/0.0812\n",
            "Validation Acc:             0.9758 ( 97 bad)\n",
            "Saving (0.975750 >= 0.972250)\n",
            "---------- Epoch 9  ----------\n",
            "Training/Validation Loss:   0.1068/0.0981\n",
            "Validation Acc:             0.9673 (131 bad)\n",
            "---------- Epoch 10 ----------\n",
            "Training/Validation Loss:   0.1032/0.0746\n",
            "Validation Acc:             0.9755 ( 98 bad)\n",
            "---------- Epoch 11 ----------\n",
            "Training/Validation Loss:   0.0973/0.0740\n",
            "Validation Acc:             0.9788 ( 85 bad)\n",
            "Saving (0.978750 >= 0.975750)\n",
            "---------- Epoch 12 ----------\n",
            "Training/Validation Loss:   0.0965/0.0743\n",
            "Validation Acc:             0.9768 ( 93 bad)\n",
            "---------- Epoch 13 ----------\n",
            "Training/Validation Loss:   0.0907/0.0803\n",
            "Validation Acc:             0.9738 (105 bad)\n",
            "---------- Epoch 14 ----------\n",
            "Training/Validation Loss:   0.0882/0.0690\n",
            "Validation Acc:             0.9808 ( 77 bad)\n",
            "Saving (0.980750 >= 0.978750)\n",
            "---------- Epoch 15 ----------\n",
            "Training/Validation Loss:   0.0825/0.0706\n",
            "Validation Acc:             0.9785 ( 86 bad)\n",
            "---------- Epoch 16 ----------\n",
            "Training/Validation Loss:   0.0811/0.0696\n",
            "Validation Acc:             0.9793 ( 83 bad)\n",
            "---------- Epoch 17 ----------\n",
            "Training/Validation Loss:   0.0801/0.0728\n",
            "Validation Acc:             0.9775 ( 90 bad)\n",
            "---------- Epoch 18 ----------\n",
            "Training/Validation Loss:   0.0772/0.0681\n",
            "Validation Acc:             0.9793 ( 83 bad)\n",
            "---------- Epoch 19 ----------\n",
            "Training/Validation Loss:   0.0751/0.0713\n",
            "Validation Acc:             0.9803 ( 79 bad)\n",
            "---------- Epoch 20 ----------\n",
            "Training/Validation Loss:   0.0751/0.0689\n",
            "Validation Acc:             0.9805 ( 78 bad)\n",
            "---------- Epoch 21 ----------\n",
            "Training/Validation Loss:   0.0718/0.0660\n",
            "Validation Acc:             0.9815 ( 74 bad)\n",
            "Saving (0.981500 >= 0.980750)\n",
            "---------- Epoch 22 ----------\n",
            "Training/Validation Loss:   0.0705/0.0674\n",
            "Validation Acc:             0.9820 ( 72 bad)\n",
            "Saving (0.982000 >= 0.981500)\n",
            "---------- Epoch 23 ----------\n",
            "Training/Validation Loss:   0.0710/0.0599\n",
            "Validation Acc:             0.9820 ( 72 bad)\n",
            "Saving (0.982000 >= 0.982000)\n",
            "---------- Epoch 24 ----------\n",
            "Training/Validation Loss:   0.0681/0.0639\n",
            "Validation Acc:             0.9803 ( 79 bad)\n",
            "---------- Epoch 25 ----------\n",
            "Training/Validation Loss:   0.0622/0.0650\n",
            "Validation Acc:             0.9818 ( 73 bad)\n",
            "---------- Epoch 26 ----------\n",
            "Training/Validation Loss:   0.0614/0.0692\n",
            "Validation Acc:             0.9803 ( 79 bad)\n",
            "---------- Epoch 27 ----------\n",
            "Training/Validation Loss:   0.0634/0.0607\n",
            "Validation Acc:             0.9840 ( 64 bad)\n",
            "Saving (0.984000 >= 0.982000)\n",
            "---------- Epoch 28 ----------\n",
            "Training/Validation Loss:   0.0638/0.0640\n",
            "Validation Acc:             0.9825 ( 70 bad)\n",
            "---------- Epoch 29 ----------\n",
            "Training/Validation Loss:   0.0595/0.0752\n",
            "Validation Acc:             0.9783 ( 87 bad)\n",
            "---------- Epoch 30 ----------\n",
            "Training/Validation Loss:   0.0596/0.0649\n",
            "Validation Acc:             0.9825 ( 70 bad)\n",
            "---------- Epoch 31 ----------\n",
            "Training/Validation Loss:   0.0575/0.0642\n",
            "Validation Acc:             0.9818 ( 73 bad)\n",
            "---------- Epoch 32 ----------\n",
            "Training/Validation Loss:   0.0578/0.0647\n",
            "Validation Acc:             0.9808 ( 77 bad)\n",
            "---------- Epoch 33 ----------\n",
            "Training/Validation Loss:   0.0567/0.0693\n",
            "Validation Acc:             0.9800 ( 80 bad)\n",
            "---------- Epoch 34 ----------\n",
            "Training/Validation Loss:   0.0578/0.0681\n",
            "Validation Acc:             0.9798 ( 81 bad)\n",
            "---------- Epoch 35 ----------\n",
            "Training/Validation Loss:   0.0565/0.0650\n",
            "Validation Acc:             0.9815 ( 74 bad)\n",
            "---------- Epoch 36 ----------\n",
            "Training/Validation Loss:   0.0531/0.0608\n",
            "Validation Acc:             0.9825 ( 70 bad)\n",
            "---------- Epoch 37 ----------\n",
            "Training/Validation Loss:   0.0535/0.0590\n",
            "Validation Acc:             0.9843 ( 63 bad)\n",
            "Saving (0.984250 >= 0.984000)\n",
            "---------- Epoch 38 ----------\n",
            "Training/Validation Loss:   0.0540/0.0581\n",
            "Validation Acc:             0.9843 ( 63 bad)\n",
            "Saving (0.984250 >= 0.984250)\n",
            "---------- Epoch 39 ----------\n",
            "Training/Validation Loss:   0.0529/0.0579\n",
            "Validation Acc:             0.9848 ( 61 bad)\n",
            "Saving (0.984750 >= 0.984250)\n",
            "---------- Epoch 40 ----------\n",
            "Training/Validation Loss:   0.0528/0.0589\n",
            "Validation Acc:             0.9813 ( 75 bad)\n",
            "---------- Epoch 41 ----------\n",
            "Training/Validation Loss:   0.0494/0.0638\n",
            "Validation Acc:             0.9825 ( 70 bad)\n",
            "---------- Epoch 42 ----------\n",
            "Training/Validation Loss:   0.0503/0.0651\n",
            "Validation Acc:             0.9818 ( 73 bad)\n",
            "---------- Epoch 43 ----------\n",
            "Training/Validation Loss:   0.0467/0.0584\n",
            "Validation Acc:             0.9835 ( 66 bad)\n",
            "---------- Epoch 44 ----------\n",
            "Training/Validation Loss:   0.0472/0.0610\n",
            "Validation Acc:             0.9838 ( 65 bad)\n",
            "---------- Epoch 45 ----------\n",
            "Training/Validation Loss:   0.0481/0.0648\n",
            "Validation Acc:             0.9820 ( 72 bad)\n",
            "---------- Epoch 46 ----------\n",
            "Training/Validation Loss:   0.0472/0.0635\n",
            "Validation Acc:             0.9835 ( 66 bad)\n",
            "---------- Epoch 47 ----------\n",
            "Training/Validation Loss:   0.0481/0.0588\n",
            "Validation Acc:             0.9858 ( 57 bad)\n",
            "Saving (0.985750 >= 0.984750)\n",
            "---------- Epoch 48 ----------\n",
            "Training/Validation Loss:   0.0462/0.0631\n",
            "Validation Acc:             0.9813 ( 75 bad)\n",
            "---------- Epoch 49 ----------\n",
            "Training/Validation Loss:   0.0477/0.0632\n",
            "Validation Acc:             0.9843 ( 63 bad)\n",
            "---------- Epoch 50 ----------\n",
            "Training/Validation Loss:   0.0463/0.0651\n",
            "Validation Acc:             0.9840 ( 64 bad)\n",
            "---------- Epoch 51 ----------\n",
            "Training/Validation Loss:   0.0465/0.0717\n",
            "Validation Acc:             0.9810 ( 76 bad)\n",
            "---------- Epoch 52 ----------\n",
            "Training/Validation Loss:   0.0438/0.0575\n",
            "Validation Acc:             0.9850 ( 60 bad)\n",
            "---------- Epoch 53 ----------\n",
            "Training/Validation Loss:   0.0446/0.0662\n",
            "Validation Acc:             0.9825 ( 70 bad)\n",
            "---------- Epoch 54 ----------\n",
            "Training/Validation Loss:   0.0456/0.0658\n",
            "Validation Acc:             0.9838 ( 65 bad)\n",
            "---------- Epoch 55 ----------\n",
            "Training/Validation Loss:   0.0426/0.0639\n",
            "Validation Acc:             0.9845 ( 62 bad)\n",
            "---------- Epoch 56 ----------\n",
            "Training/Validation Loss:   0.0439/0.0601\n",
            "Validation Acc:             0.9860 ( 56 bad)\n",
            "Saving (0.986000 >= 0.985750)\n",
            "---------- Epoch 57 ----------\n",
            "Training/Validation Loss:   0.0454/0.0621\n",
            "Validation Acc:             0.9820 ( 72 bad)\n",
            "---------- Epoch 58 ----------\n",
            "Training/Validation Loss:   0.0427/0.0639\n",
            "Validation Acc:             0.9835 ( 66 bad)\n",
            "---------- Epoch 59 ----------\n",
            "Training/Validation Loss:   0.0408/0.0641\n",
            "Validation Acc:             0.9853 ( 59 bad)\n"
          ],
          "name": "stdout"
        }
      ]
    },
    {
      "cell_type": "markdown",
      "metadata": {
        "id": "11AP806V9p_z"
      },
      "source": [
        "\n",
        "### 2.2.5: Evaluation\n",
        "\n",
        "The first plot shows the process of training the model. While the validation and training loss decreases, the accuracy of course increased.  "
      ]
    },
    {
      "cell_type": "code",
      "metadata": {
        "colab": {
          "base_uri": "https://localhost:8080/",
          "height": 334
        },
        "id": "ZLHYjaNX9p_1",
        "outputId": "504523b9-ce9f-4695-de94-6053f7a27d83"
      },
      "source": [
        "fig = plt.figure(figsize=(9,5))\n",
        "ax1 = fig.add_subplot(111)\n",
        "hTrainLoss, = ax1.plot(range(NUM_EPOCHS), epoch_data['train_loss'], alpha=0.7, marker='.', color='tab:blue')\n",
        "hValidLoss, = ax1.plot(range(NUM_EPOCHS), epoch_data['eval_loss'], alpha=0.7, marker='.', color='tab:orange')\n",
        "\n",
        "ax2 = ax1.twinx()\n",
        "hValidAcc, = ax2.plot(range(NUM_EPOCHS), epoch_data['eval_acc'], alpha=0.7, marker='.', color='tab:green')\n",
        "\n",
        "ax1.set_ylabel('Loss (CrossEntropy)')\n",
        "ax1.set_xlabel('Epoch')\n",
        "ax2.set_ylabel('Accuracy')\n",
        "\n",
        "plt.legend(\n",
        "  [hTrainLoss, hValidLoss, hValidAcc],\n",
        "  ['Train CrossEntropy','Validation CrossEntropy','Validation Accuracy'],\n",
        "  loc='center right',\n",
        ")\n",
        "plt.show()"
      ],
      "execution_count": null,
      "outputs": [
        {
          "output_type": "display_data",
          "data": {
            "image/png": "[encoded data removed]",
            "text/plain": [
              "<Figure size 648x360 with 2 Axes>"
            ]
          },
          "metadata": {
            "tags": [],
            "needs_background": "light"
          }
        }
      ]
    },
    {
      "cell_type": "code",
      "metadata": {
        "id": "b9jMfUad9p_9",
        "colab": {
          "base_uri": "https://localhost:8080/"
        },
        "outputId": "f39590cb-c156-4be2-ae3e-2f9b28c6330c"
      },
      "source": [
        "model = M2()\n",
        "model.load_state_dict(torch.load(\"models_m2/epoch_039.pt\"))\n",
        "model.eval()\n",
        "model.to(DEVICE)\n",
        "\n",
        "testing_data = get_data(data_test)\n",
        "loader_test = torch.utils.data.DataLoader(testing_data, batch_size=BATCH_SIZE, shuffle=False, num_workers=0)\n",
        "\n",
        "false_classification = []\n",
        "\n",
        "test_loss = 0.0\n",
        "test_acc = 0\n",
        "    \n",
        "for inputs, labels in loader_test:\n",
        "    inputs = inputs.to(DEVICE)\n",
        "    labels = labels.to(DEVICE)\n",
        "\n",
        "    # forward\n",
        "    out = model(inputs)\n",
        "    out = out.view(-1, 10)\n",
        "    t_loss = loss_fn(out, labels)\n",
        "    test_loss += t_loss.item()*inputs.size(0)\n",
        "        \n",
        "    # calculate predictions & accuracy\n",
        "    _, pred = torch.max(out, 1)\n",
        "    test_acc += torch.sum(pred == labels)\n",
        "\n",
        "    preds = (pred == labels)\n",
        "    for x in range(len(preds)):\n",
        "        if not preds[x]:\n",
        "            img = inputs[x].view(-1, 28).cpu().numpy()\n",
        "            correct_label = labels[x]\n",
        "            wrong_label = pred[x]\n",
        "            false_classification.append((img, correct_label, wrong_label))\n",
        "\n",
        "# calculate data\n",
        "test_loss = test_loss/len(loader_test.dataset)\n",
        "test_acc = test_acc/len(loader_test.dataset)\n",
        "\n",
        "print('-'*10, f'Epoch {37:<3}', '-'*10)\n",
        "print(f'Test Loss:  {test_loss:.4f}')\n",
        "print(f'Test Acc:   {test_acc:.4f} ({len(false_classification)}/{len(loader_test.dataset)} bad)')"
      ],
      "execution_count": null,
      "outputs": [
        {
          "output_type": "stream",
          "text": [
            "---------- Epoch 37  ----------\n",
            "Test Loss:  0.0526\n",
            "Test Acc:   0.9853 (88/6000 bad)\n"
          ],
          "name": "stdout"
        }
      ]
    },
    {
      "cell_type": "code",
      "metadata": {
        "id": "pcFWoIow9qAB",
        "colab": {
          "base_uri": "https://localhost:8080/",
          "height": 243
        },
        "outputId": "8911350c-cd70-4ca1-e8e8-e101ed48a6cb"
      },
      "source": [
        "# Visualize the predictions\n",
        "figure = plt.figure(figsize=(8, len(false_classification)))\n",
        "\n",
        "columns = 2\n",
        "rows = len(false_classification) / 2 + 1\n",
        "ax = []\n",
        "\n",
        "for ind, (img, correct_label, wrong_label) in list(enumerate(false_classification))[:4]:\n",
        "    ax.append( figure.add_subplot(rows, columns, ind+1) )\n",
        "    ax[-1].set_title(f'Correct: {correct_label}, Predicted: {wrong_label}')\n",
        "    ax[-1].axis(\"off\")\n",
        "    plt.imshow(img)\n",
        "\n",
        "\n",
        "plt.show()"
      ],
      "execution_count": null,
      "outputs": [
        {
          "output_type": "display_data",
          "data": {
            "image/png": "[encoded data removed]",
            "text/plain": [
              "<Figure size 576x6336 with 4 Axes>"
            ]
          },
          "metadata": {
            "tags": [],
            "needs_background": "light"
          }
        }
      ]
    },
    {
      "cell_type": "markdown",
      "metadata": {
        "id": "e1DW7qfj9qAK"
      },
      "source": [
        "### 2.2.6: Summary\n",
        "\n",
        "We first started with 4 fully connected layers. The images were then flattened to 1x784 and used as input for the model. After we notice the overfitting in the model, we added dropout layers in between. With this, the model was able to train for much larger number of epochs and the accuracy increased. The final result scores an accuracy of 98.53% which means, that it missclassified 88 out of 6000 images.\n",
        "\n",
        "The instances in which the model misclassified are somewhat degenerated inputs and therefore we do not consider this model to be faulty."
      ]
    },
    {
      "cell_type": "markdown",
      "metadata": {
        "id": "RETQ8m069qAL"
      },
      "source": [
        "## 2.3: Model [M3] (Neural Networks): Convolution (25 points)\n",
        "\n",
        "Model architecture and parameters were inspired from [this tutorial](https://www.kaggle.com/jcardenzana/mnist-pytorch-convolutional-neural-nets) and were reworked by us to maximize performance.\n",
        "\n"
      ]
    },
    {
      "cell_type": "markdown",
      "metadata": {
        "id": "1GiVHlJY9qAM"
      },
      "source": [
        "### 2.3.1: Hyper-parameters\n",
        "\n",
        "Define hyper-parameters for your method here"
      ]
    },
    {
      "cell_type": "code",
      "metadata": {
        "colab": {
          "base_uri": "https://localhost:8080/"
        },
        "id": "SKoAwCND9qAO",
        "outputId": "34028692-e491-4d40-d919-d63ff409f4f9"
      },
      "source": [
        "torch.manual_seed(0)\n",
        "DEVICE = torch.device(\"cuda\" if torch.cuda.is_available() else \"cpu\")\n",
        "print('Running on', DEVICE)\n",
        "BATCH_SIZE = 64\n",
        "NUM_EPOCHS = 150\n",
        "LEARNING_RATE = 0.0005\n",
        "\n",
        "conv_block_defs = [\n",
        "  {'kernel': 5, 'kernel_stride': 1, 'pool_stride': 2, 'dropout': 0.2, 'channels_out': 32},\n",
        "  {'kernel': 3, 'kernel_stride': 1, 'pool_stride': 2, 'dropout': 0.2, 'channels_out': 64},\n",
        "  {'kernel': 3, 'kernel_stride': 1, 'pool_stride': 2, 'dropout': 0.2, 'channels_out': 64},\n",
        "]\n",
        "dense_block_defs = [\n",
        "  {'out': 512, 'dropout': 0.2},\n",
        "  {'out': 256, 'dropout': 0.2},\n",
        "  {'out': 256, 'dropout': 0.2},\n",
        "  {'out':  10, 'dropout': 0.2},\n",
        "]\n"
      ],
      "execution_count": null,
      "outputs": [
        {
          "output_type": "stream",
          "text": [
            "Running on cuda\n"
          ],
          "name": "stdout"
        }
      ]
    },
    {
      "cell_type": "markdown",
      "metadata": {
        "id": "ec-7KY-n9qAT"
      },
      "source": [
        "### 2.3.2: Data Preprocessing\n"
      ]
    },
    {
      "cell_type": "code",
      "metadata": {
        "id": "NoRKyD4E9qAU"
      },
      "source": [
        "transform_augmn = transforms.Compose([\n",
        "  transforms.RandomAffine(\n",
        "      degrees=35,\n",
        "      translate=(0.2, 0.2),\n",
        "      scale=(0.85, 1.15),\n",
        "      # resample=PIL.Image.BICUBIC\n",
        "  ),\n",
        "  transforms.ToTensor(),\n",
        "  transforms.Normalize((0.5,), (0.5,)),\n",
        "])\n",
        "data_augmn = list(torchvision.datasets.MNIST('.', train=True, download=True, transform=transform_augmn))\n",
        "AUGMENTED_FRAC = 0.2\n",
        "data_augmn = data_augmn[:int(len(data_augmn)*AUGMENTED_FRAC)]\n",
        "\n",
        "def get_data_loader(data):\n",
        "  return torch.utils.data.DataLoader(data, shuffle=True, batch_size=BATCH_SIZE, num_workers=0)\n",
        "\n",
        "loader_train = get_data_loader(data_train+data_augmn)\n",
        "loader_valid = get_data_loader(data_valid)\n",
        "loader_test  = get_data_loader(data_test)"
      ],
      "execution_count": null,
      "outputs": []
    },
    {
      "cell_type": "markdown",
      "metadata": {
        "id": "C3b9f2gE9qAa"
      },
      "source": [
        "### 2.3.3: Model\n",
        "\n",
        "Define your model here"
      ]
    },
    {
      "cell_type": "code",
      "metadata": {
        "id": "1x5s62ID9qAc"
      },
      "source": [
        "class M3(nn.Module):\n",
        "    def conv_block_size(self, width, kernel, padding, kernel_stride, pool_stride, dropout, **kwargs):\n",
        "      return (1+(width - kernel + (2*padding)) / kernel_stride) // pool_stride\n",
        "\n",
        "    def conv_block(self, channels_in, channels_out, kernel, padding, kernel_stride, pool_stride, dropout, **kwargs):\n",
        "        return [\n",
        "          nn.Conv2d(channels_in, channels_out, kernel, stride=kernel_stride, padding=padding),\n",
        "          nn.ReLU(),\n",
        "          nn.MaxPool2d(pool_stride, pool_stride),\n",
        "          nn.Dropout(p=dropout)\n",
        "        ]\n",
        "\n",
        "    def __init__(self):\n",
        "        super(M3, self).__init__()\n",
        "\n",
        "        # convolution segment\n",
        "        layers = []\n",
        "        self.channels = 1\n",
        "        conv_width = 28\n",
        "        for conv_block_def in conv_block_defs:\n",
        "          conv_block_def['channels_in'] = self.channels\n",
        "          self.channels = conv_block_def['channels_out']\n",
        "          conv_block_def['width'] = conv_width\n",
        "          # width and height get padded from both sizes, this preserves the original dimensions\n",
        "          conv_block_def['padding'] = conv_block_def['kernel'] // 2\n",
        "          layers += self.conv_block(**conv_block_def)          \n",
        "          conv_width = self.conv_block_size(**conv_block_def)\n",
        "          \n",
        "        out_connections = int(conv_block_defs[-1]['channels_out']*conv_width * conv_width)\n",
        "        \n",
        "        self.between_block_connections = out_connections\n",
        "        self.block_1 = nn.Sequential(*layers)\n",
        "        \n",
        "        # dense segment\n",
        "        layers = []\n",
        "        for dense_block_def in dense_block_defs:\n",
        "          layers.append(nn.Dropout(p=dense_block_def['dropout']))\n",
        "          layers.append(nn.Linear(out_connections, dense_block_def['out']))\n",
        "          out_connections = dense_block_def['out']\n",
        "\n",
        "        self.block_2 = nn.Sequential(*layers)\n",
        "\n",
        "    def forward(self, x):\n",
        "      x = self.block_1(x)\n",
        "      x = torch.flatten(x, start_dim=1)\n",
        "      x = self.block_2(x)\n",
        "      return x\n",
        "\n",
        "model = M3().to(DEVICE)\n",
        "\n",
        "loss_func = nn.CrossEntropyLoss()\n",
        "optimizer = torch.optim.Adam(model.parameters(), lr=LEARNING_RATE)"
      ],
      "execution_count": null,
      "outputs": []
    },
    {
      "cell_type": "markdown",
      "metadata": {
        "id": "0H4i063n9qAg"
      },
      "source": [
        "### 2.3.4: Fit Model\n"
      ]
    },
    {
      "cell_type": "code",
      "metadata": {
        "colab": {
          "base_uri": "https://localhost:8080/"
        },
        "id": "pB6kv-_q9qAm",
        "outputId": "fa268b5b-4c87-4bdd-eba2-6a92e21da9a9"
      },
      "source": [
        "# Training\n",
        "epoch_data = {\n",
        "    'valid_loss': [],\n",
        "    'train_loss': [],\n",
        "    'valid_acc': [],\n",
        "    'train_acc': []\n",
        "}\n",
        "valid_acc_max = 0\n",
        "\n",
        "if not os.path.exists('models_m3'):\n",
        "  os.makedirs('models_m3')\n",
        "\n",
        "for epoch in range(NUM_EPOCHS):\n",
        "    train_loss = 0.0\n",
        "    valid_loss = 0.0\n",
        "    valid_acc  = 0\n",
        "    \n",
        "    # train\n",
        "    model.train()\n",
        "    for data, target in loader_train:\n",
        "        data   = data.to(DEVICE)\n",
        "        target = target.to(DEVICE)\n",
        "        \n",
        "        optimizer.zero_grad()\n",
        "        output = model(data)\n",
        "        loss = loss_func(output, target)\n",
        "        loss.backward()\n",
        "        optimizer.step()\n",
        "        train_loss += loss.item()*data.size(0)\n",
        "\n",
        "    # validate\n",
        "    model.eval() # turns e.g. dropout off\n",
        "    for data, target in loader_valid:\n",
        "        data   = data.to(DEVICE)\n",
        "        target = target.to(DEVICE)\n",
        "\n",
        "        output = model(data)\n",
        "        loss = loss_func(output, target)\n",
        "        \n",
        "        # calculate predictions & accuracy\n",
        "        _, pred = torch.max(output, 1)\n",
        "        valid_acc += torch.sum(pred == target)\n",
        "        valid_loss += loss.item()*data.size(0)\n",
        "    \n",
        "    # calculate metrics\n",
        "    invalid_count = len(loader_valid.dataset) - valid_acc\n",
        "    train_loss = train_loss/len(loader_train.dataset)\n",
        "    valid_loss = valid_loss/len(loader_valid.dataset)\n",
        "    valid_acc  = valid_acc/len(loader_valid.dataset)\n",
        "\n",
        "    # store metrics\n",
        "    epoch_data['train_loss'].append(train_loss)\n",
        "    epoch_data['valid_loss'].append(valid_loss)\n",
        "    epoch_data['valid_acc'].append(valid_acc)\n",
        "    epoch_data['train_acc'].append(valid_acc)\n",
        "       \n",
        "    # print epoch statistics \n",
        "    print('-'*10, f'Epoch {epoch:<2}', '-'*10)\n",
        "    print(f'Training/Validation Loss:   {train_loss:.4f}/{valid_loss:.4f}')\n",
        "    print(f'Validation Acc:             {valid_acc:.4f} ({invalid_count:>3} bad)')\n",
        "\n",
        "    # save model if validation loss has decreased\n",
        "    if valid_acc >= valid_acc_max:\n",
        "        print(f'Saving ({valid_acc:.6f} >= {valid_acc_max:.6f})')\n",
        "        torch.save(model.state_dict(), f'models_m3/epoch_{epoch:03}.pt')\n",
        "        valid_acc_max = valid_acc"
      ],
      "execution_count": null,
      "outputs": [
        {
          "output_type": "stream",
          "text": [
            "---------- Epoch 0  ----------\n",
            "Training/Validation Loss:   0.4151/0.0595\n",
            "Validation Acc:             0.9833 ( 67 bad)\n",
            "Saving (0.983250 >= 0.000000)\n",
            "---------- Epoch 1  ----------\n",
            "Training/Validation Loss:   0.1704/0.0347\n",
            "Validation Acc:             0.9898 ( 41 bad)\n",
            "Saving (0.989750 >= 0.983250)\n",
            "---------- Epoch 2  ----------\n",
            "Training/Validation Loss:   0.1380/0.0415\n",
            "Validation Acc:             0.9878 ( 49 bad)\n",
            "---------- Epoch 3  ----------\n",
            "Training/Validation Loss:   0.1220/0.0322\n",
            "Validation Acc:             0.9875 ( 50 bad)\n",
            "---------- Epoch 4  ----------\n",
            "Training/Validation Loss:   0.1139/0.0240\n",
            "Validation Acc:             0.9915 ( 34 bad)\n",
            "Saving (0.991500 >= 0.989750)\n",
            "---------- Epoch 5  ----------\n",
            "Training/Validation Loss:   0.1022/0.0283\n",
            "Validation Acc:             0.9905 ( 38 bad)\n",
            "---------- Epoch 6  ----------\n",
            "Training/Validation Loss:   0.0974/0.0244\n",
            "Validation Acc:             0.9908 ( 37 bad)\n",
            "---------- Epoch 7  ----------\n",
            "Training/Validation Loss:   0.0907/0.0207\n",
            "Validation Acc:             0.9933 ( 27 bad)\n",
            "Saving (0.993250 >= 0.991500)\n",
            "---------- Epoch 8  ----------\n",
            "Training/Validation Loss:   0.0869/0.0302\n",
            "Validation Acc:             0.9908 ( 37 bad)\n",
            "---------- Epoch 9  ----------\n",
            "Training/Validation Loss:   0.0837/0.0218\n",
            "Validation Acc:             0.9923 ( 31 bad)\n",
            "---------- Epoch 10 ----------\n",
            "Training/Validation Loss:   0.0795/0.0218\n",
            "Validation Acc:             0.9918 ( 33 bad)\n",
            "---------- Epoch 11 ----------\n",
            "Training/Validation Loss:   0.0774/0.0228\n",
            "Validation Acc:             0.9930 ( 28 bad)\n",
            "---------- Epoch 12 ----------\n",
            "Training/Validation Loss:   0.0738/0.0187\n",
            "Validation Acc:             0.9943 ( 23 bad)\n",
            "Saving (0.994250 >= 0.993250)\n",
            "---------- Epoch 13 ----------\n",
            "Training/Validation Loss:   0.0694/0.0207\n",
            "Validation Acc:             0.9930 ( 28 bad)\n",
            "---------- Epoch 14 ----------\n",
            "Training/Validation Loss:   0.0702/0.0209\n",
            "Validation Acc:             0.9930 ( 28 bad)\n",
            "---------- Epoch 15 ----------\n",
            "Training/Validation Loss:   0.0680/0.0223\n",
            "Validation Acc:             0.9925 ( 30 bad)\n",
            "---------- Epoch 16 ----------\n",
            "Training/Validation Loss:   0.0648/0.0186\n",
            "Validation Acc:             0.9938 ( 25 bad)\n",
            "---------- Epoch 17 ----------\n",
            "Training/Validation Loss:   0.0654/0.0220\n",
            "Validation Acc:             0.9915 ( 34 bad)\n",
            "---------- Epoch 18 ----------\n",
            "Training/Validation Loss:   0.0630/0.0209\n",
            "Validation Acc:             0.9930 ( 28 bad)\n",
            "---------- Epoch 19 ----------\n",
            "Training/Validation Loss:   0.0624/0.0223\n",
            "Validation Acc:             0.9923 ( 31 bad)\n",
            "---------- Epoch 20 ----------\n",
            "Training/Validation Loss:   0.0615/0.0164\n",
            "Validation Acc:             0.9953 ( 19 bad)\n",
            "Saving (0.995250 >= 0.994250)\n",
            "---------- Epoch 21 ----------\n",
            "Training/Validation Loss:   0.0622/0.0189\n",
            "Validation Acc:             0.9933 ( 27 bad)\n",
            "---------- Epoch 22 ----------\n",
            "Training/Validation Loss:   0.0593/0.0171\n",
            "Validation Acc:             0.9945 ( 22 bad)\n",
            "---------- Epoch 23 ----------\n",
            "Training/Validation Loss:   0.0587/0.0177\n",
            "Validation Acc:             0.9925 ( 30 bad)\n",
            "---------- Epoch 24 ----------\n",
            "Training/Validation Loss:   0.0579/0.0231\n",
            "Validation Acc:             0.9920 ( 32 bad)\n",
            "---------- Epoch 25 ----------\n",
            "Training/Validation Loss:   0.0596/0.0187\n",
            "Validation Acc:             0.9940 ( 24 bad)\n",
            "---------- Epoch 26 ----------\n",
            "Training/Validation Loss:   0.0566/0.0188\n",
            "Validation Acc:             0.9938 ( 25 bad)\n",
            "---------- Epoch 27 ----------\n",
            "Training/Validation Loss:   0.0544/0.0176\n",
            "Validation Acc:             0.9943 ( 23 bad)\n",
            "---------- Epoch 28 ----------\n",
            "Training/Validation Loss:   0.0540/0.0208\n",
            "Validation Acc:             0.9928 ( 29 bad)\n",
            "---------- Epoch 29 ----------\n",
            "Training/Validation Loss:   0.0550/0.0173\n",
            "Validation Acc:             0.9943 ( 23 bad)\n",
            "---------- Epoch 30 ----------\n",
            "Training/Validation Loss:   0.0552/0.0144\n",
            "Validation Acc:             0.9953 ( 19 bad)\n",
            "Saving (0.995250 >= 0.995250)\n",
            "---------- Epoch 31 ----------\n",
            "Training/Validation Loss:   0.0532/0.0187\n",
            "Validation Acc:             0.9938 ( 25 bad)\n",
            "---------- Epoch 32 ----------\n",
            "Training/Validation Loss:   0.0529/0.0191\n",
            "Validation Acc:             0.9953 ( 19 bad)\n",
            "Saving (0.995250 >= 0.995250)\n",
            "---------- Epoch 33 ----------\n",
            "Training/Validation Loss:   0.0512/0.0197\n",
            "Validation Acc:             0.9923 ( 31 bad)\n",
            "---------- Epoch 34 ----------\n",
            "Training/Validation Loss:   0.0507/0.0170\n",
            "Validation Acc:             0.9945 ( 22 bad)\n",
            "---------- Epoch 35 ----------\n",
            "Training/Validation Loss:   0.0478/0.0156\n",
            "Validation Acc:             0.9945 ( 22 bad)\n",
            "---------- Epoch 36 ----------\n",
            "Training/Validation Loss:   0.0497/0.0199\n",
            "Validation Acc:             0.9945 ( 22 bad)\n",
            "---------- Epoch 37 ----------\n",
            "Training/Validation Loss:   0.0517/0.0178\n",
            "Validation Acc:             0.9940 ( 24 bad)\n",
            "---------- Epoch 38 ----------\n",
            "Training/Validation Loss:   0.0480/0.0154\n",
            "Validation Acc:             0.9953 ( 19 bad)\n",
            "Saving (0.995250 >= 0.995250)\n",
            "---------- Epoch 39 ----------\n",
            "Training/Validation Loss:   0.0486/0.0185\n",
            "Validation Acc:             0.9938 ( 25 bad)\n",
            "---------- Epoch 40 ----------\n",
            "Training/Validation Loss:   0.0497/0.0127\n",
            "Validation Acc:             0.9945 ( 22 bad)\n",
            "---------- Epoch 41 ----------\n",
            "Training/Validation Loss:   0.0496/0.0119\n",
            "Validation Acc:             0.9955 ( 18 bad)\n",
            "Saving (0.995500 >= 0.995250)\n",
            "---------- Epoch 42 ----------\n",
            "Training/Validation Loss:   0.0473/0.0147\n",
            "Validation Acc:             0.9950 ( 20 bad)\n",
            "---------- Epoch 43 ----------\n",
            "Training/Validation Loss:   0.0478/0.0185\n",
            "Validation Acc:             0.9938 ( 25 bad)\n",
            "---------- Epoch 44 ----------\n",
            "Training/Validation Loss:   0.0459/0.0171\n",
            "Validation Acc:             0.9943 ( 23 bad)\n",
            "---------- Epoch 45 ----------\n",
            "Training/Validation Loss:   0.0469/0.0167\n",
            "Validation Acc:             0.9948 ( 21 bad)\n",
            "---------- Epoch 46 ----------\n",
            "Training/Validation Loss:   0.0463/0.0170\n",
            "Validation Acc:             0.9948 ( 21 bad)\n",
            "---------- Epoch 47 ----------\n",
            "Training/Validation Loss:   0.0470/0.0177\n",
            "Validation Acc:             0.9935 ( 26 bad)\n",
            "---------- Epoch 48 ----------\n",
            "Training/Validation Loss:   0.0466/0.0228\n",
            "Validation Acc:             0.9928 ( 29 bad)\n",
            "---------- Epoch 49 ----------\n",
            "Training/Validation Loss:   0.0451/0.0205\n",
            "Validation Acc:             0.9930 ( 28 bad)\n",
            "---------- Epoch 50 ----------\n",
            "Training/Validation Loss:   0.0458/0.0138\n",
            "Validation Acc:             0.9953 ( 19 bad)\n",
            "---------- Epoch 51 ----------\n",
            "Training/Validation Loss:   0.0450/0.0196\n",
            "Validation Acc:             0.9940 ( 24 bad)\n",
            "---------- Epoch 52 ----------\n",
            "Training/Validation Loss:   0.0458/0.0247\n",
            "Validation Acc:             0.9923 ( 31 bad)\n",
            "---------- Epoch 53 ----------\n",
            "Training/Validation Loss:   0.0432/0.0219\n",
            "Validation Acc:             0.9935 ( 26 bad)\n",
            "---------- Epoch 54 ----------\n",
            "Training/Validation Loss:   0.0472/0.0181\n",
            "Validation Acc:             0.9935 ( 26 bad)\n",
            "---------- Epoch 55 ----------\n",
            "Training/Validation Loss:   0.0449/0.0243\n",
            "Validation Acc:             0.9935 ( 26 bad)\n",
            "---------- Epoch 56 ----------\n",
            "Training/Validation Loss:   0.0455/0.0156\n",
            "Validation Acc:             0.9950 ( 20 bad)\n",
            "---------- Epoch 57 ----------\n",
            "Training/Validation Loss:   0.0456/0.0150\n",
            "Validation Acc:             0.9945 ( 22 bad)\n",
            "---------- Epoch 58 ----------\n",
            "Training/Validation Loss:   0.0427/0.0191\n",
            "Validation Acc:             0.9945 ( 22 bad)\n",
            "---------- Epoch 59 ----------\n",
            "Training/Validation Loss:   0.0440/0.0177\n",
            "Validation Acc:             0.9935 ( 26 bad)\n",
            "---------- Epoch 60 ----------\n",
            "Training/Validation Loss:   0.0469/0.0150\n",
            "Validation Acc:             0.9948 ( 21 bad)\n",
            "---------- Epoch 61 ----------\n",
            "Training/Validation Loss:   0.0429/0.0150\n",
            "Validation Acc:             0.9953 ( 19 bad)\n",
            "---------- Epoch 62 ----------\n",
            "Training/Validation Loss:   0.0436/0.0183\n",
            "Validation Acc:             0.9940 ( 24 bad)\n",
            "---------- Epoch 63 ----------\n",
            "Training/Validation Loss:   0.0446/0.0228\n",
            "Validation Acc:             0.9925 ( 30 bad)\n",
            "---------- Epoch 64 ----------\n",
            "Training/Validation Loss:   0.0423/0.0190\n",
            "Validation Acc:             0.9933 ( 27 bad)\n",
            "---------- Epoch 65 ----------\n",
            "Training/Validation Loss:   0.0428/0.0166\n",
            "Validation Acc:             0.9945 ( 22 bad)\n",
            "---------- Epoch 66 ----------\n",
            "Training/Validation Loss:   0.0417/0.0170\n",
            "Validation Acc:             0.9953 ( 19 bad)\n",
            "---------- Epoch 67 ----------\n",
            "Training/Validation Loss:   0.0444/0.0177\n",
            "Validation Acc:             0.9945 ( 22 bad)\n",
            "---------- Epoch 68 ----------\n",
            "Training/Validation Loss:   0.0412/0.0179\n",
            "Validation Acc:             0.9950 ( 20 bad)\n",
            "---------- Epoch 69 ----------\n",
            "Training/Validation Loss:   0.0421/0.0116\n",
            "Validation Acc:             0.9970 ( 12 bad)\n",
            "Saving (0.997000 >= 0.995500)\n",
            "---------- Epoch 70 ----------\n",
            "Training/Validation Loss:   0.0404/0.0151\n",
            "Validation Acc:             0.9948 ( 21 bad)\n",
            "---------- Epoch 71 ----------\n",
            "Training/Validation Loss:   0.0415/0.0166\n",
            "Validation Acc:             0.9963 ( 15 bad)\n",
            "---------- Epoch 72 ----------\n",
            "Training/Validation Loss:   0.0431/0.0158\n",
            "Validation Acc:             0.9945 ( 22 bad)\n",
            "---------- Epoch 73 ----------\n",
            "Training/Validation Loss:   0.0433/0.0153\n",
            "Validation Acc:             0.9968 ( 13 bad)\n",
            "---------- Epoch 74 ----------\n",
            "Training/Validation Loss:   0.0414/0.0188\n",
            "Validation Acc:             0.9953 ( 19 bad)\n",
            "---------- Epoch 75 ----------\n",
            "Training/Validation Loss:   0.0413/0.0153\n",
            "Validation Acc:             0.9948 ( 21 bad)\n",
            "---------- Epoch 76 ----------\n",
            "Training/Validation Loss:   0.0424/0.0195\n",
            "Validation Acc:             0.9950 ( 20 bad)\n",
            "---------- Epoch 77 ----------\n",
            "Training/Validation Loss:   0.0408/0.0145\n",
            "Validation Acc:             0.9953 ( 19 bad)\n",
            "---------- Epoch 78 ----------\n",
            "Training/Validation Loss:   0.0389/0.0153\n",
            "Validation Acc:             0.9955 ( 18 bad)\n",
            "---------- Epoch 79 ----------\n",
            "Training/Validation Loss:   0.0413/0.0222\n",
            "Validation Acc:             0.9933 ( 27 bad)\n",
            "---------- Epoch 80 ----------\n",
            "Training/Validation Loss:   0.0421/0.0158\n",
            "Validation Acc:             0.9960 ( 16 bad)\n",
            "---------- Epoch 81 ----------\n",
            "Training/Validation Loss:   0.0407/0.0155\n",
            "Validation Acc:             0.9948 ( 21 bad)\n",
            "---------- Epoch 82 ----------\n",
            "Training/Validation Loss:   0.0411/0.0140\n",
            "Validation Acc:             0.9953 ( 19 bad)\n",
            "---------- Epoch 83 ----------\n",
            "Training/Validation Loss:   0.0413/0.0186\n",
            "Validation Acc:             0.9935 ( 26 bad)\n",
            "---------- Epoch 84 ----------\n",
            "Training/Validation Loss:   0.0400/0.0176\n",
            "Validation Acc:             0.9948 ( 21 bad)\n",
            "---------- Epoch 85 ----------\n",
            "Training/Validation Loss:   0.0414/0.0139\n",
            "Validation Acc:             0.9958 ( 17 bad)\n",
            "---------- Epoch 86 ----------\n",
            "Training/Validation Loss:   0.0379/0.0181\n",
            "Validation Acc:             0.9943 ( 23 bad)\n",
            "---------- Epoch 87 ----------\n",
            "Training/Validation Loss:   0.0421/0.0188\n",
            "Validation Acc:             0.9948 ( 21 bad)\n",
            "---------- Epoch 88 ----------\n",
            "Training/Validation Loss:   0.0415/0.0202\n",
            "Validation Acc:             0.9933 ( 27 bad)\n",
            "---------- Epoch 89 ----------\n",
            "Training/Validation Loss:   0.0404/0.0189\n",
            "Validation Acc:             0.9940 ( 24 bad)\n",
            "---------- Epoch 90 ----------\n",
            "Training/Validation Loss:   0.0421/0.0141\n",
            "Validation Acc:             0.9953 ( 19 bad)\n",
            "---------- Epoch 91 ----------\n",
            "Training/Validation Loss:   0.0390/0.0180\n",
            "Validation Acc:             0.9938 ( 25 bad)\n",
            "---------- Epoch 92 ----------\n",
            "Training/Validation Loss:   0.0399/0.0180\n",
            "Validation Acc:             0.9943 ( 23 bad)\n",
            "---------- Epoch 93 ----------\n",
            "Training/Validation Loss:   0.0392/0.0165\n",
            "Validation Acc:             0.9948 ( 21 bad)\n",
            "---------- Epoch 94 ----------\n",
            "Training/Validation Loss:   0.0406/0.0187\n",
            "Validation Acc:             0.9938 ( 25 bad)\n",
            "---------- Epoch 95 ----------\n",
            "Training/Validation Loss:   0.0408/0.0163\n",
            "Validation Acc:             0.9955 ( 18 bad)\n",
            "---------- Epoch 96 ----------\n",
            "Training/Validation Loss:   0.0389/0.0174\n",
            "Validation Acc:             0.9955 ( 18 bad)\n",
            "---------- Epoch 97 ----------\n",
            "Training/Validation Loss:   0.0384/0.0183\n",
            "Validation Acc:             0.9945 ( 22 bad)\n",
            "---------- Epoch 98 ----------\n",
            "Training/Validation Loss:   0.0370/0.0188\n",
            "Validation Acc:             0.9945 ( 22 bad)\n",
            "---------- Epoch 99 ----------\n",
            "Training/Validation Loss:   0.0387/0.0156\n",
            "Validation Acc:             0.9955 ( 18 bad)\n",
            "---------- Epoch 100 ----------\n",
            "Training/Validation Loss:   0.0398/0.0135\n",
            "Validation Acc:             0.9953 ( 19 bad)\n",
            "---------- Epoch 101 ----------\n",
            "Training/Validation Loss:   0.0375/0.0154\n",
            "Validation Acc:             0.9953 ( 19 bad)\n",
            "---------- Epoch 102 ----------\n",
            "Training/Validation Loss:   0.0396/0.0144\n",
            "Validation Acc:             0.9950 ( 20 bad)\n",
            "---------- Epoch 103 ----------\n",
            "Training/Validation Loss:   0.0393/0.0140\n",
            "Validation Acc:             0.9943 ( 23 bad)\n",
            "---------- Epoch 104 ----------\n",
            "Training/Validation Loss:   0.0379/0.0152\n",
            "Validation Acc:             0.9948 ( 21 bad)\n",
            "---------- Epoch 105 ----------\n",
            "Training/Validation Loss:   0.0389/0.0158\n",
            "Validation Acc:             0.9950 ( 20 bad)\n",
            "---------- Epoch 106 ----------\n",
            "Training/Validation Loss:   0.0400/0.0164\n",
            "Validation Acc:             0.9940 ( 24 bad)\n",
            "---------- Epoch 107 ----------\n",
            "Training/Validation Loss:   0.0401/0.0144\n",
            "Validation Acc:             0.9955 ( 18 bad)\n",
            "---------- Epoch 108 ----------\n",
            "Training/Validation Loss:   0.0396/0.0184\n",
            "Validation Acc:             0.9943 ( 23 bad)\n",
            "---------- Epoch 109 ----------\n",
            "Training/Validation Loss:   0.0392/0.0156\n",
            "Validation Acc:             0.9948 ( 21 bad)\n",
            "---------- Epoch 110 ----------\n",
            "Training/Validation Loss:   0.0409/0.0217\n",
            "Validation Acc:             0.9933 ( 27 bad)\n",
            "---------- Epoch 111 ----------\n",
            "Training/Validation Loss:   0.0416/0.0159\n",
            "Validation Acc:             0.9958 ( 17 bad)\n",
            "---------- Epoch 112 ----------\n",
            "Training/Validation Loss:   0.0378/0.0173\n",
            "Validation Acc:             0.9945 ( 22 bad)\n",
            "---------- Epoch 113 ----------\n",
            "Training/Validation Loss:   0.0422/0.0193\n",
            "Validation Acc:             0.9955 ( 18 bad)\n",
            "---------- Epoch 114 ----------\n",
            "Training/Validation Loss:   0.0371/0.0180\n",
            "Validation Acc:             0.9938 ( 25 bad)\n",
            "---------- Epoch 115 ----------\n",
            "Training/Validation Loss:   0.0400/0.0141\n",
            "Validation Acc:             0.9948 ( 21 bad)\n",
            "---------- Epoch 116 ----------\n",
            "Training/Validation Loss:   0.0406/0.0164\n",
            "Validation Acc:             0.9935 ( 26 bad)\n",
            "---------- Epoch 117 ----------\n",
            "Training/Validation Loss:   0.0382/0.0161\n",
            "Validation Acc:             0.9958 ( 17 bad)\n",
            "---------- Epoch 118 ----------\n",
            "Training/Validation Loss:   0.0401/0.0187\n",
            "Validation Acc:             0.9935 ( 26 bad)\n",
            "---------- Epoch 119 ----------\n",
            "Training/Validation Loss:   0.0375/0.0130\n",
            "Validation Acc:             0.9955 ( 18 bad)\n",
            "---------- Epoch 120 ----------\n",
            "Training/Validation Loss:   0.0386/0.0160\n",
            "Validation Acc:             0.9950 ( 20 bad)\n",
            "---------- Epoch 121 ----------\n",
            "Training/Validation Loss:   0.0357/0.0176\n",
            "Validation Acc:             0.9940 ( 24 bad)\n",
            "---------- Epoch 122 ----------\n",
            "Training/Validation Loss:   0.0385/0.0159\n",
            "Validation Acc:             0.9948 ( 21 bad)\n",
            "---------- Epoch 123 ----------\n",
            "Training/Validation Loss:   0.0380/0.0122\n",
            "Validation Acc:             0.9955 ( 18 bad)\n",
            "---------- Epoch 124 ----------\n",
            "Training/Validation Loss:   0.0366/0.0125\n",
            "Validation Acc:             0.9955 ( 18 bad)\n",
            "---------- Epoch 125 ----------\n",
            "Training/Validation Loss:   0.0365/0.0210\n",
            "Validation Acc:             0.9953 ( 19 bad)\n",
            "---------- Epoch 126 ----------\n",
            "Training/Validation Loss:   0.0381/0.0140\n",
            "Validation Acc:             0.9955 ( 18 bad)\n",
            "---------- Epoch 127 ----------\n",
            "Training/Validation Loss:   0.0374/0.0171\n",
            "Validation Acc:             0.9953 ( 19 bad)\n",
            "---------- Epoch 128 ----------\n",
            "Training/Validation Loss:   0.0371/0.0134\n",
            "Validation Acc:             0.9953 ( 19 bad)\n",
            "---------- Epoch 129 ----------\n",
            "Training/Validation Loss:   0.0387/0.0154\n",
            "Validation Acc:             0.9955 ( 18 bad)\n",
            "---------- Epoch 130 ----------\n",
            "Training/Validation Loss:   0.0377/0.0149\n",
            "Validation Acc:             0.9953 ( 19 bad)\n",
            "---------- Epoch 131 ----------\n",
            "Training/Validation Loss:   0.0374/0.0200\n",
            "Validation Acc:             0.9935 ( 26 bad)\n",
            "---------- Epoch 132 ----------\n",
            "Training/Validation Loss:   0.0380/0.0174\n",
            "Validation Acc:             0.9950 ( 20 bad)\n",
            "---------- Epoch 133 ----------\n",
            "Training/Validation Loss:   0.0385/0.0135\n",
            "Validation Acc:             0.9955 ( 18 bad)\n",
            "---------- Epoch 134 ----------\n",
            "Training/Validation Loss:   0.0380/0.0157\n",
            "Validation Acc:             0.9953 ( 19 bad)\n",
            "---------- Epoch 135 ----------\n",
            "Training/Validation Loss:   0.0381/0.0157\n",
            "Validation Acc:             0.9953 ( 19 bad)\n",
            "---------- Epoch 136 ----------\n",
            "Training/Validation Loss:   0.0374/0.0132\n",
            "Validation Acc:             0.9958 ( 17 bad)\n",
            "---------- Epoch 137 ----------\n",
            "Training/Validation Loss:   0.0371/0.0151\n",
            "Validation Acc:             0.9953 ( 19 bad)\n",
            "---------- Epoch 138 ----------\n",
            "Training/Validation Loss:   0.0379/0.0151\n",
            "Validation Acc:             0.9953 ( 19 bad)\n",
            "---------- Epoch 139 ----------\n",
            "Training/Validation Loss:   0.0368/0.0150\n",
            "Validation Acc:             0.9955 ( 18 bad)\n",
            "---------- Epoch 140 ----------\n",
            "Training/Validation Loss:   0.0366/0.0151\n",
            "Validation Acc:             0.9960 ( 16 bad)\n",
            "---------- Epoch 141 ----------\n",
            "Training/Validation Loss:   0.0379/0.0163\n",
            "Validation Acc:             0.9945 ( 22 bad)\n",
            "---------- Epoch 142 ----------\n",
            "Training/Validation Loss:   0.0392/0.0179\n",
            "Validation Acc:             0.9953 ( 19 bad)\n",
            "---------- Epoch 143 ----------\n",
            "Training/Validation Loss:   0.0388/0.0197\n",
            "Validation Acc:             0.9948 ( 21 bad)\n",
            "---------- Epoch 144 ----------\n",
            "Training/Validation Loss:   0.0384/0.0176\n",
            "Validation Acc:             0.9950 ( 20 bad)\n",
            "---------- Epoch 145 ----------\n",
            "Training/Validation Loss:   0.0373/0.0199\n",
            "Validation Acc:             0.9943 ( 23 bad)\n",
            "---------- Epoch 146 ----------\n",
            "Training/Validation Loss:   0.0376/0.0167\n",
            "Validation Acc:             0.9948 ( 21 bad)\n",
            "---------- Epoch 147 ----------\n",
            "Training/Validation Loss:   0.0363/0.0167\n",
            "Validation Acc:             0.9953 ( 19 bad)\n",
            "---------- Epoch 148 ----------\n",
            "Training/Validation Loss:   0.0363/0.0186\n",
            "Validation Acc:             0.9943 ( 23 bad)\n",
            "---------- Epoch 149 ----------\n",
            "Training/Validation Loss:   0.0349/0.0159\n",
            "Validation Acc:             0.9943 ( 23 bad)\n"
          ],
          "name": "stdout"
        }
      ]
    },
    {
      "cell_type": "markdown",
      "metadata": {
        "id": "77TpEvie9qA1"
      },
      "source": [
        "### 2.3.5: Evaluation\n",
        "\n",
        "<!-- Evaluate your model.\n",
        "\n",
        "  * Loss curves: Plot epoch (# passes over training data) and loss\n",
        "  * Accuracy curves: Plot epoch and accuracy over val/test set\n",
        "  * Final numbers: Report final accuracy numbers for your model -->"
      ]
    },
    {
      "cell_type": "code",
      "metadata": {
        "colab": {
          "base_uri": "https://localhost:8080/",
          "height": 334
        },
        "id": "suNN4fu29qA3",
        "outputId": "23eccfd6-f073-47f0-9a09-3a4f324a7072"
      },
      "source": [
        "fig = plt.figure(figsize=(9,5))\n",
        "ax1 = fig.add_subplot(111)\n",
        "hTrainLoss, = ax1.plot(range(NUM_EPOCHS), epoch_data['train_loss'], alpha=0.7, marker='.', color='tab:blue')\n",
        "hValidLoss, = ax1.plot(range(NUM_EPOCHS), epoch_data['valid_loss'], alpha=0.7, marker='.', color='tab:orange')\n",
        "\n",
        "ax2 = ax1.twinx()\n",
        "hValidAcc, = ax2.plot(range(NUM_EPOCHS), epoch_data['valid_acc'], alpha=0.7, marker='.', color='tab:green')\n",
        "\n",
        "ax1.set_ylabel('Loss (CrossEntropy)')\n",
        "ax1.set_xlabel('Epoch')\n",
        "ax2.set_ylabel('Accuracy')\n",
        "\n",
        "plt.legend(\n",
        "  [hTrainLoss, hValidLoss, hValidAcc],\n",
        "  ['Train CrossEntropy','Validation CrossEntropy','Validation Accuracy'],\n",
        "  loc='center right',\n",
        ")\n",
        "plt.show()"
      ],
      "execution_count": null,
      "outputs": [
        {
          "output_type": "display_data",
          "data": {
            "image/png": "[encoded data removed]",
            "text/plain": [
              "<Figure size 648x360 with 2 Axes>"
            ]
          },
          "metadata": {
            "tags": [],
            "needs_background": "light"
          }
        }
      ]
    },
    {
      "cell_type": "markdown",
      "metadata": {
        "id": "5QVIqjN-Ykh_"
      },
      "source": [
        "Validation having lower loss than training data can be explained mostly by the usage of dropout, which is not active during inference time.\n",
        "\n",
        "It is very difficult to choose the _best_ epoch, because the variation is still quite high, but rolling average plateaus."
      ]
    },
    {
      "cell_type": "code",
      "metadata": {
        "colab": {
          "base_uri": "https://localhost:8080/"
        },
        "id": "55UAvpDD9qA-",
        "outputId": "4b911269-ca50-4582-ae8a-bf58830be4d2"
      },
      "source": [
        "model = M3()\n",
        "model.load_state_dict(torch.load(\"models_m3/epoch_069.pt\"))\n",
        "model.eval()\n",
        "model.to(DEVICE)\n",
        "\n",
        "test_loss = 0.0\n",
        "test_acc  = 0\n",
        "misclassified = []\n",
        "\n",
        "for data, target in loader_test:\n",
        "    data   = data.to(DEVICE)\n",
        "    target = target.to(DEVICE)\n",
        "\n",
        "    output = model(data)\n",
        "    loss = loss_func(output, target)\n",
        "    \n",
        "    # calculate predictions & accuracy\n",
        "    _, pred = torch.max(output, 1)\n",
        "    test_acc += torch.sum(pred == target)\n",
        "    test_loss += loss.item()*data.size(0)\n",
        "    wrong_indicies = (pred != target).nonzero(as_tuple=True)[0]\n",
        "    wrong_data = data[wrong_indicies]\n",
        "    wrong_labels = target[wrong_indicies]\n",
        "    wrong_labels_out = pred[wrong_indicies]\n",
        "    misclassified += zip(wrong_data, wrong_labels, wrong_labels_out)\n",
        "    \n",
        "# calculate metrics\n",
        "invalid_count = len(loader_test.dataset) - test_acc\n",
        "test_loss = test_loss/len(loader_test.dataset)\n",
        "test_acc  = test_acc/len(loader_test.dataset)\n",
        "\n",
        "print('-'*10, f'Epoch {69:<3}', '-'*10)\n",
        "print(f'Test Loss:  {test_loss:.4f}')\n",
        "print(f'Test Acc:   {test_acc:.4f} ({invalid_count:>3}/{len(loader_test.dataset)} bad)')\n"
      ],
      "execution_count": null,
      "outputs": [
        {
          "output_type": "stream",
          "text": [
            "---------- Epoch 69  ----------\n",
            "Test Loss:  0.0236\n",
            "Test Acc:   0.9947 ( 32/6000 bad)\n"
          ],
          "name": "stdout"
        }
      ]
    },
    {
      "cell_type": "code",
      "metadata": {
        "id": "bs6QBX9e9qBI",
        "colab": {
          "base_uri": "https://localhost:8080/",
          "height": 236
        },
        "outputId": "40e81542-a48f-4413-9a30-c592ce406c0a"
      },
      "source": [
        "# Visualize the predictions\n",
        "figure = plt.figure(figsize=(8, len(misclassified)))\n",
        "\n",
        "columns = 2\n",
        "rows = len(misclassified) / 2 + 1\n",
        "ax = []\n",
        "\n",
        "for ind, (img, correct_label, wrong_label) in list(enumerate(misclassified))[:4]:\n",
        "    ax.append( figure.add_subplot(rows, columns, ind+1) )\n",
        "    ax[-1].set_title(f'Correct: {correct_label}, Predicted: {wrong_label}')\n",
        "    ax[-1].axis(\"off\")\n",
        "    plt.imshow(img.cpu().reshape(28, 28))\n",
        "\n",
        "\n",
        "plt.show()"
      ],
      "execution_count": null,
      "outputs": [
        {
          "output_type": "display_data",
          "data": {
            "image/png": "[encoded data removed]",
            "text/plain": [
              "<Figure size 576x2304 with 4 Axes>"
            ]
          },
          "metadata": {
            "tags": [],
            "needs_background": "light"
          }
        }
      ]
    },
    {
      "cell_type": "markdown",
      "metadata": {
        "id": "yIuz4UIq9qBO"
      },
      "source": [
        "### 2.3.6: Summary\n",
        "\n",
        "We started with a model architecture and parameters from the aforementioned tutorial. This model was however overfitting and had unnecessarily large capacity (3x2 large convolutions, 3 pooling layers), so we scaled it down. \n",
        "What really helped was the introduction of data augmentation. Not only did it help against overfitting, but in general it is quite easy to synthesize new data for this task. The question then became how much data augmentation should we allow and how much should the data be augmented in the first place. After a few runs, we settled on 20% of synthesized data.\n",
        "\n",
        "Interestingly enough, when bicubic resampling was turned on, the performance dropped, so we kept it at nearest neighbor resampling. This is interesting, because the synthetized images are recognizable from the original data. \n",
        "\n",
        "We thought about adding label smoothing and extra residual connections, but label smoothing is not guaranteed to improve the performance and residual connections are not that important here as the convolution blocks are quite small. \n",
        "\n",
        "The final model achieved 99.98% accuracy. The only example it mislabeled is  shown above. This seems  something that strong dropout could fix (imagine dropouts of all nodes after the pooling layer in the black region), but it did not work in this case.\n"
      ]
    },
    {
      "cell_type": "markdown",
      "metadata": {
        "id": "Ex3qQp3JolD1"
      },
      "source": [
        "# 3. Summary (20 points)\n",
        "<!-- \n",
        "\n",
        "You should now compare performance  on the three models [M1], [M2] and [M3]. Present this in a tabular format and/or using plots.\n",
        "\n",
        "Which model do you recommend to perform digit classification and why?\n",
        "\n",
        "Feel free to discuss other insightful observations. -->\n",
        "\n",
        "We could have used cross validation for also M2 and M3 for more robust evaluation results, but that seemed to be beyond the scope of this homework. See the note on the third model. Test evaluation was run three times (once per the model author and twice by the reviewer, because we only later added seed fixation). We did not make any decisions based on the test results, therefore we do not consider them to be dirty.\n",
        "\n",
        "|Model|Dev accuracy|Test accuracy|Traininig time|\n",
        "|-|-|-|-|\n",
        "|M1| 97.92% | 98.03% | 33s/config., 36 configs. + 15min final|\n",
        "|M2| 98.48% | 98.53% | 10s/epoch, 60 epochs |\n",
        "|M3| 99.70% | 99.47% | 9s/epoch, 150 epochs |\n",
        "\n",
        "We did not yet explore the fragility/robustness of the models. It is then possible, that for example M1 or M2 would be more suited for critical applications. We did not apply any explainability methods and therefore can not certify, that the models are safe.\n",
        "\n",
        "Another aspect would be the inference time and memory requirement. From this point of view, M1 is definitely the winner because of its low inference complexity. The training and inference speed was quite high _on GPU_. On CPU, the performance for M2 and M3 is much worse. For embedded devices, M1 would be our choice.\n",
        "\n",
        "The choice depends on the requirement context. If the context is to get the highest score in a controlled environment, we would recommend M3."
      ]
    }
  ]
}