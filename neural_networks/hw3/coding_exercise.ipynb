{
  "nbformat": 4,
  "nbformat_minor": 0,
  "metadata": {
    "kernelspec": {
      "display_name": "Python 3",
      "language": "python",
      "name": "python3"
    },
    "language_info": {
      "codemirror_mode": {
        "name": "ipython",
        "version": 3
      },
      "file_extension": ".py",
      "mimetype": "text/x-python",
      "name": "python",
      "nbconvert_exporter": "python",
      "pygments_lexer": "ipython3",
      "version": "3.8.6-final"
    },
    "colab": {
      "name": "coding_exercise.ipynb",
      "provenance": [],
      "collapsed_sections": [],
      "toc_visible": true
    }
  },
  "cells": [
    {
      "cell_type": "markdown",
      "metadata": {
        "id": "k-1FudQZyo6H"
      },
      "source": [
        "# Exercise Sheet 3\n",
        "\n",
        "## Machine learning basics\n",
        "\n",
        "### Deadline: 02.12.2020 23:59\n",
        "\n",
        "**Instructions:**\n",
        "Insert your code in the *TODO* sections ans type your answers in the *Answer* cells. <br>"
      ]
    },
    {
      "cell_type": "markdown",
      "metadata": {
        "id": "Ln-k87hbyo6H"
      },
      "source": [
        "Names and teams IDs: Vilém Zouhar vizo00001, Pauline Sander s8pasand"
      ]
    },
    {
      "cell_type": "code",
      "metadata": {
        "id": "1OCI4YMUyo6I"
      },
      "source": [
        "import pandas as pd\n",
        "import numpy as np\n",
        "import matplotlib.pyplot as plt\n",
        "from sklearn.linear_model import LinearRegression, LogisticRegression\n",
        "from sklearn.model_selection import train_test_split\n",
        "from sklearn.metrics import mean_squared_error, log_loss\n",
        "from sklearn.preprocessing import PolynomialFeatures\n",
        "from sklearn.pipeline import Pipeline"
      ],
      "execution_count": null,
      "outputs": []
    },
    {
      "cell_type": "markdown",
      "metadata": {
        "id": "dEKygtJ9yo6I"
      },
      "source": [
        "## 1 Implementing regression"
      ]
    },
    {
      "cell_type": "markdown",
      "metadata": {
        "id": "XGWvWT1qyo6I"
      },
      "source": [
        "In this exercise we will practice implementing regression on the Titanic dataset using the package *sklearn*. <br>\n",
        "<a href=\"https://www.kaggle.com/c/titanic\">Titanic dataset </a> contains the data about passengers of the ship and information whether they survived or not. <br>\n",
        "In the materials for this exercise you can find the file *titanic.csv*. This file contains preprocessed data with information about passenger ID, age, class, and *price* of their ticket."
      ]
    },
    {
      "cell_type": "markdown",
      "metadata": {
        "id": "ZtKvGabByo6I"
      },
      "source": [
        "**1.1 Load the data as a pandas dataframe, using <a href = \"https://pandas.pydata.org/pandas-docs/stable/reference/api/pandas.read_csv.html\">read_csv</a> method**"
      ]
    },
    {
      "cell_type": "code",
      "metadata": {
        "id": "yDIUhM2tyo6I",
        "colab": {
          "base_uri": "https://localhost:8080/",
          "height": 206
        },
        "outputId": "27e22c75-da11-418b-f947-cacf8ba11134"
      },
      "source": [
        "titanic = pd.read_csv('titanic.csv')\n",
        "titanic.head()"
      ],
      "execution_count": null,
      "outputs": [
        {
          "output_type": "execute_result",
          "data": {
            "text/html": [
              "<div>\n",
              "<style scoped>\n",
              "    .dataframe tbody tr th:only-of-type {\n",
              "        vertical-align: middle;\n",
              "    }\n",
              "\n",
              "    .dataframe tbody tr th {\n",
              "        vertical-align: top;\n",
              "    }\n",
              "\n",
              "    .dataframe thead th {\n",
              "        text-align: right;\n",
              "    }\n",
              "</style>\n",
              "<table border=\"1\" class=\"dataframe\">\n",
              "  <thead>\n",
              "    <tr style=\"text-align: right;\">\n",
              "      <th></th>\n",
              "      <th>PassengerId</th>\n",
              "      <th>Survived</th>\n",
              "      <th>Pclass</th>\n",
              "      <th>Age</th>\n",
              "      <th>Price</th>\n",
              "    </tr>\n",
              "  </thead>\n",
              "  <tbody>\n",
              "    <tr>\n",
              "      <th>0</th>\n",
              "      <td>1</td>\n",
              "      <td>0</td>\n",
              "      <td>3</td>\n",
              "      <td>22.0</td>\n",
              "      <td>7.2500</td>\n",
              "    </tr>\n",
              "    <tr>\n",
              "      <th>1</th>\n",
              "      <td>2</td>\n",
              "      <td>1</td>\n",
              "      <td>1</td>\n",
              "      <td>38.0</td>\n",
              "      <td>71.2833</td>\n",
              "    </tr>\n",
              "    <tr>\n",
              "      <th>2</th>\n",
              "      <td>3</td>\n",
              "      <td>1</td>\n",
              "      <td>3</td>\n",
              "      <td>26.0</td>\n",
              "      <td>7.9250</td>\n",
              "    </tr>\n",
              "    <tr>\n",
              "      <th>3</th>\n",
              "      <td>4</td>\n",
              "      <td>1</td>\n",
              "      <td>1</td>\n",
              "      <td>35.0</td>\n",
              "      <td>26.5500</td>\n",
              "    </tr>\n",
              "    <tr>\n",
              "      <th>4</th>\n",
              "      <td>5</td>\n",
              "      <td>0</td>\n",
              "      <td>3</td>\n",
              "      <td>35.0</td>\n",
              "      <td>8.0500</td>\n",
              "    </tr>\n",
              "  </tbody>\n",
              "</table>\n",
              "</div>"
            ],
            "text/plain": [
              "   PassengerId  Survived  Pclass   Age    Price\n",
              "0            1         0       3  22.0   7.2500\n",
              "1            2         1       1  38.0  71.2833\n",
              "2            3         1       3  26.0   7.9250\n",
              "3            4         1       1  35.0  26.5500\n",
              "4            5         0       3  35.0   8.0500"
            ]
          },
          "metadata": {
            "tags": []
          },
          "execution_count": 16
        }
      ]
    },
    {
      "cell_type": "markdown",
      "metadata": {
        "id": "BO0aSclcyo6L"
      },
      "source": [
        "**Look at the data and report which variables are continuous, nominal, ordinal. (0.5 points)** "
      ]
    },
    {
      "cell_type": "markdown",
      "metadata": {
        "id": "0MGLLAHuyo6L"
      },
      "source": [
        "Ordinal: Pclass\n",
        "\n",
        "Continuous: Age, Price\n",
        "\n",
        "Nominal: Survived, PassengerId\n",
        "\n",
        "(Pclass could also be considered nominal, but because there is some ordering we classified it as ordinal; PassengerID is nominal because the numbers do not have an intrinsic value)"
      ]
    },
    {
      "cell_type": "markdown",
      "metadata": {
        "id": "HEfkHP2hyo6L"
      },
      "source": [
        "**1.2 Here we will implement a simple linear regression and try to see if we can predict the *price* of the ticket based on the *age* of the passenger (0.5 points)** <br>\n",
        "Consult the documentation on <a href=\"https://scikit-learn.org/stable/modules/generated/sklearn.linear_model.LinearRegression.html\">LinearRegression class </a> in sklearn"
      ]
    },
    {
      "cell_type": "code",
      "metadata": {
        "id": "0P8aupBtyo6L"
      },
      "source": [
        "model = LinearRegression().fit(titanic[['Age']], titanic['Price'])"
      ],
      "execution_count": null,
      "outputs": []
    },
    {
      "cell_type": "markdown",
      "metadata": {
        "id": "JSVGMoXkyo6L"
      },
      "source": [
        "\n",
        "**What are the parameters of the model that we fit? Hint: the parametrs are the attributes of the model, consult the documentation.**"
      ]
    },
    {
      "cell_type": "code",
      "metadata": {
        "id": "5MOi3SYpyo6M",
        "colab": {
          "base_uri": "https://localhost:8080/"
        },
        "outputId": "22406531-4266-4681-a5b7-649f98f543d9"
      },
      "source": [
        "print(f'Coef: {model.coef_[0]:.2f}, Offset: {model.intercept_:.2f}')"
      ],
      "execution_count": null,
      "outputs": [
        {
          "output_type": "stream",
          "text": [
            "Coef: 0.34, Offset: 8.78\n"
          ],
          "name": "stdout"
        }
      ]
    },
    {
      "cell_type": "markdown",
      "metadata": {
        "id": "WwD6u9OOyo6M"
      },
      "source": [
        "**1.3 Write the formula of the fitted regression. (0.5 points)**"
      ]
    },
    {
      "cell_type": "markdown",
      "metadata": {
        "id": "XS0NSdJXyo6M"
      },
      "source": [
        "Price ~= 0.34 * Age + 8.78"
      ]
    },
    {
      "cell_type": "markdown",
      "metadata": {
        "id": "UeHoG8c-yo6M"
      },
      "source": [
        "**1.4 Let us see how good are the estimated values of the model. (0.5 points)** <br>\n",
        "Write the formula for Mean Squared Error and calculate the value for our age~price model. <br>\n",
        "Check if you calculated it correctly using the <a href=\"https://scikit-learn.org/stable/modules/generated/sklearn.metrics.mean_squared_error.html\"> mean_squared_error method </a> from sklearn.metrics"
      ]
    },
    {
      "cell_type": "markdown",
      "metadata": {
        "id": "jhrx4o_tyo6M"
      },
      "source": [
        "$$ MSE (f, X, Y) = \\frac{1}{N} \\sum_i^{N} (Y_i-f(X_i))^2 $$"
      ]
    },
    {
      "cell_type": "code",
      "metadata": {
        "id": "2iHbqfylyo6M",
        "colab": {
          "base_uri": "https://localhost:8080/"
        },
        "outputId": "bfea9870-98c8-4d11-987b-cbe0c9b065e4"
      },
      "source": [
        "titanic['PredictedPrice'] = model.predict(titanic[['Age']])\n",
        " \n",
        "mse_our = sum((titanic['PredictedPrice'] - titanic['Price'])**2) / len(titanic)\n",
        "mse_gld = mean_squared_error(titanic['PredictedPrice'], titanic['Price'])\n",
        "print('MSE our: ', mse_our)\n",
        "print('MSE gold:', mse_gld)"
      ],
      "execution_count": null,
      "outputs": [
        {
          "output_type": "stream",
          "text": [
            "MSE our:  433.03541836274667\n",
            "MSE gold: 433.0354183627467\n"
          ],
          "name": "stdout"
        }
      ]
    },
    {
      "cell_type": "markdown",
      "metadata": {
        "id": "zoPNryb0yo6M"
      },
      "source": [
        "**1.5 Get predictions of your model (hint: there is a corresponding method) and plot them with the original data on the same graph. (1 point)** <br>\n"
      ]
    },
    {
      "cell_type": "code",
      "metadata": {
        "id": "8onAqWZjyo6M",
        "colab": {
          "base_uri": "https://localhost:8080/",
          "height": 279
        },
        "outputId": "ae526957-b0ce-47d0-bfde-5fab2a19fc45"
      },
      "source": [
        "def plt_predicted_price_linear(xvar):\n",
        "    plt.scatter(titanic[xvar], titanic['Price'], label='True Price', marker='.')\n",
        "    plt.scatter(titanic[xvar], titanic['PredictedPrice'], label='Predicted Price', marker='.', color='red')\n",
        "    plt.xlabel(xvar)\n",
        "    plt.ylabel('Price')\n",
        "    plt.legend()\n",
        "    plt.show()\n",
        "plt_predicted_price_linear('Age')"
      ],
      "execution_count": null,
      "outputs": [
        {
          "output_type": "display_data",
          "data": {
            "image/png": "[encoded data removed]",
            "text/plain": [
              "<Figure size 432x288 with 1 Axes>"
            ]
          },
          "metadata": {
            "tags": [],
            "needs_background": "light"
          }
        }
      ]
    },
    {
      "cell_type": "markdown",
      "metadata": {
        "id": "ytX1LR_Hyo6N"
      },
      "source": [
        "Is Age a good predictor for the Price of the ticket? Have a look at the data again. Is there a better predictor? <br>\n",
        "**1.6 Choose another predictor and repeat the same steps (1.2-1.5). Report the better predictor. (0.5 points)**"
      ]
    },
    {
      "cell_type": "code",
      "metadata": {
        "id": "isbnfMfIyo6N",
        "colab": {
          "base_uri": "https://localhost:8080/",
          "height": 331
        },
        "outputId": "5bc5b8d1-be1e-4d0a-e031-5a26c3284759"
      },
      "source": [
        "model = LinearRegression().fit(titanic[['Pclass']], titanic['Price'])\n",
        "\n",
        "print(f'Coef: {model.coef_[0]:.2f}, Offset: {model.intercept_:.2f}')\n",
        "print(f'Price ~= {model.coef_[0]:.2f} * Class + {model.intercept_:.2f}')\n",
        "\n",
        "titanic['PredictedPrice'] = model.predict(titanic[['Pclass']])\n",
        "mse_gld = mean_squared_error(titanic['PredictedPrice'], titanic['Price'])\n",
        "print('MSE :', mse_gld)\n",
        "plt_predicted_price_linear('Pclass')"
      ],
      "execution_count": null,
      "outputs": [
        {
          "output_type": "stream",
          "text": [
            "Coef: -17.07, Offset: 56.91\n",
            "Price ~= -17.07 * Class + 56.91\n",
            "MSE : 252.25678322689726\n"
          ],
          "name": "stdout"
        },
        {
          "output_type": "display_data",
          "data": {
            "image/png": "[encoded data removed]",
            "text/plain": [
              "<Figure size 432x288 with 1 Axes>"
            ]
          },
          "metadata": {
            "tags": [],
            "needs_background": "light"
          }
        }
      ]
    },
    {
      "cell_type": "markdown",
      "metadata": {
        "id": "74rowwVvyo6N"
      },
      "source": [
        "We can go on and try to improve the fit even more by increasing the complexity of the model.<br>\n",
        "**1.7 Consult this <a href=\"https://www.analyticsvidhya.com/blog/2020/03/polynomial-regression-python/\">Tutorial</a> and fit polynomial regressions using the better predictor. (1.5 points)**<br>\n",
        "1) Fit regressions of order 2, 5, and 10. <br>\n",
        "2) Get parameters of the models and write down the equations for each model inserting the fitted parameters. <br>\n",
        "3) Compute MSE for each model and compare them. Does increasing the capacity of the model improve its performance? <br>"
      ]
    },
    {
      "cell_type": "code",
      "metadata": {
        "id": "h6opLwoIyo6N",
        "colab": {
          "base_uri": "https://localhost:8080/",
          "height": 507
        },
        "outputId": "89de49d5-f0fc-4312-b103-2fa635e70bc8"
      },
      "source": [
        "def fit_poly(degree, predictor):\n",
        "    model = Pipeline([\n",
        "        ('polynomial', PolynomialFeatures(degree=degree)),\n",
        "        ('modal', LinearRegression())\n",
        "    ])\n",
        "    model.fit(titanic[[predictor]], titanic['Price'])\n",
        "    titanic['PredictedPrice'] = model.predict(titanic[[predictor]])\n",
        "    mse_gld = mean_squared_error(titanic['PredictedPrice'], titanic['Price'])\n",
        "    print('Degree', degree)\n",
        "    print('MSE :', mse_gld)\n",
        "    print('Price ~=', ' + '.join([f'{v:.2f} x^{i}' for i,v in enumerate(model[1].coef_)]) + '\\n')\n",
        "\n",
        "    plt.scatter(titanic[predictor], titanic['PredictedPrice'], label=f'Degree {degree}', marker='x')\n",
        "    \n",
        "predictor = 'Pclass'\n",
        "plt.scatter(titanic[predictor], titanic['Price'], label='True Price', marker='.')\n",
        "fit_poly(2, predictor)\n",
        "fit_poly(5, predictor)\n",
        "fit_poly(10, predictor)\n",
        "plt.xlabel(predictor)\n",
        "plt.ylabel('Price')\n",
        "plt.legend()\n",
        "plt.show()"
      ],
      "execution_count": null,
      "outputs": [
        {
          "output_type": "stream",
          "text": [
            "Degree 2\n",
            "MSE : 225.81355305730602\n",
            "Price ~= 0.00 x^0 + -66.69 x^1 + 12.16 x^2\n",
            "\n",
            "Degree 5\n",
            "MSE : 226.9891354211192\n",
            "Price ~= 0.00 x^0 + -1599130709940.58 x^1 + -3833608571399.25 x^2 + -14445968192487.67 x^3 + 12998546243340.00 x^4 + -2605047092857.35 x^5\n",
            "\n",
            "Degree 10\n",
            "MSE : 226.68741750572966\n",
            "Price ~= 0.00 x^0 + -109226277.26 x^1 + -294477173.85 x^2 + -761134811.02 x^3 + -1335514416.06 x^4 + -3125843285.91 x^5 + -7791182901.43 x^6 + -15932098346.13 x^7 + -36790091925.73 x^8 + 41883708940.63 x^9 + -9172655283.77 x^10\n",
            "\n"
          ],
          "name": "stdout"
        },
        {
          "output_type": "display_data",
          "data": {
            "image/png": "[encoded data removed]",
            "text/plain": [
              "<Figure size 432x288 with 1 Axes>"
            ]
          },
          "metadata": {
            "tags": [],
            "needs_background": "light"
          }
        }
      ]
    },
    {
      "cell_type": "markdown",
      "metadata": {
        "id": "45Wa2UEx9bcV"
      },
      "source": [
        "All three models have a similar mean squared error. Increasing the capacity does not improve the performance."
      ]
    },
    {
      "cell_type": "markdown",
      "metadata": {
        "id": "g_0yT2Rzyo6N"
      },
      "source": [
        "Now we will try to predict if a passenger survived based on the passenger class. <br>\n",
        "Whether a passenger survived or not is a categorical variable, so we have to implement a **logistic** regression. <br>\n",
        "Logistic regression will be covered in the lecture on the 1st of December, but you can already get acquainted with it in <a href = \"https://towardsdatascience.com/logistic-regression-detailed-overview-46c4da4303bc\">this post</a>."
      ]
    },
    {
      "cell_type": "markdown",
      "metadata": {
        "id": "WcE5Dvy-yo6N"
      },
      "source": [
        "**1.8 Fit a <a href=\"https://scikit-learn.org/stable/modules/generated/sklearn.linear_model.LogisticRegression.html\"> logistic regression </a> predicting if a passenger has survived based on their class. (0.5 points)** <br>\n",
        "\n"
      ]
    },
    {
      "cell_type": "code",
      "metadata": {
        "id": "6DkV93GZyo6N"
      },
      "source": [
        "model = LogisticRegression().fit(titanic[['Pclass']], titanic['Survived'])\n",
        "titanic['PredictedSurvived'] = model.predict(titanic[['Pclass']])\n",
        "titanic[['PredictedSurvivedProbN', 'PredictedSurvivedProbP']] = model.predict_proba(titanic[['Pclass']])"
      ],
      "execution_count": null,
      "outputs": []
    },
    {
      "cell_type": "markdown",
      "metadata": {
        "id": "EgR5N2xoyo6N"
      },
      "source": [
        "**1.9 Cross entropy loss. (1 point)** <br>\n",
        "The measure that we use for estimating the error of a logistic regression is *Cross Entropy Loss*. <br>\n",
        "Here is a good <a href=\"https://www.youtube.com/watch?v=jKQI75qKm3A\"> video </a> explaining Maximum Likelihood Estimation and Cross Entropy Loss. <br>\n",
        "Write the formula for Cross Entropy Loss and calculate the error of your model using this formula. Check your answer using the <a href=\"https://scikit-learn.org/stable/modules/generated/sklearn.metrics.log_loss.html\"> log_loss </a> method from sklearn."
      ]
    },
    {
      "cell_type": "markdown",
      "metadata": {
        "id": "8MaL5EEoyo6N"
      },
      "source": [
        "*Cross Entropy Loss formula*:\n",
        "\n",
        "$$ H[p,q] = - \\sum_{o\\in O} p(o) log[q(o)] $$\n",
        "\n",
        "In our case, the possible observations are $0$ or $1$. The loss of the prediced data is the average of loss for individual examples."
      ]
    },
    {
      "cell_type": "code",
      "metadata": {
        "id": "yqKD69rUyo6N",
        "colab": {
          "base_uri": "https://localhost:8080/"
        },
        "outputId": "e4214774-6f68-42aa-d3f5-5d2558e963aa"
      },
      "source": [
        "loss_our = sum(-titanic['Survived']*np.log(titanic['PredictedSurvivedProbP'])-(1-titanic['Survived'])*np.log(titanic['PredictedSurvivedProbN']))/len(titanic)\n",
        "loss_gld = log_loss(titanic['Survived'], titanic['PredictedSurvivedProbP'])\n",
        "print('Cross-Entropy our: ', loss_our)\n",
        "print('Cross-Entropy gold:', loss_gld)"
      ],
      "execution_count": null,
      "outputs": [
        {
          "output_type": "stream",
          "text": [
            "Cross-Entropy our:  0.6097604720869241\n",
            "Cross-Entropy gold: 0.6097604720869179\n"
          ],
          "name": "stdout"
        }
      ]
    },
    {
      "cell_type": "markdown",
      "metadata": {
        "id": "q0RTp6gDyo6N"
      },
      "source": [
        "**1.10 Fit a multiple logistic regression (0.5 points)** <br>\n",
        "Now let's check if the Age of a passenger also had an influence on their survival chances. <br>\n",
        "Fit a model with 2 predictors, compute the loss. Compare with the previous model."
      ]
    },
    {
      "cell_type": "code",
      "metadata": {
        "id": "3w4xxGFeyo6N",
        "colab": {
          "base_uri": "https://localhost:8080/"
        },
        "outputId": "9aa9612e-9531-4894-c722-bcec84e9d857"
      },
      "source": [
        "model = LogisticRegression().fit(titanic[['Pclass', 'Age']], titanic['Survived'])\n",
        "titanic['PredictedSurvived'] = model.predict(titanic[['Pclass', 'Age']])\n",
        "titanic[['PredictedSurvivedProbN', 'PredictedSurvivedProbP']] = model.predict_proba(titanic[['Pclass', 'Age']])\n",
        "loss = log_loss(titanic['Survived'], titanic['PredictedSurvivedProbP'])\n",
        "print('Loss:', loss)"
      ],
      "execution_count": null,
      "outputs": [
        {
          "output_type": "stream",
          "text": [
            "Loss: 0.5794472607802827\n"
          ],
          "name": "stdout"
        }
      ]
    },
    {
      "cell_type": "markdown",
      "metadata": {
        "id": "yBXx64kr-GH3"
      },
      "source": [
        "This model performs better than the simple logistic regression."
      ]
    },
    {
      "cell_type": "markdown",
      "metadata": {
        "id": "U8x8o_VTyo6O"
      },
      "source": [
        "## 2 Evaluating the performance of a model\n",
        "\n",
        "**2.1 Give definitions of terms overfitting and underfitting. <br>\n",
        "How can we check if the model underfits, overfits or is optimal? (1 point)**"
      ]
    },
    {
      "cell_type": "markdown",
      "metadata": {
        "id": "5nePjrLmyo6O"
      },
      "source": [
        "__Overfitting__: The model has too high capacity (or uses too much of it by overtraining), which is used to improve train data performance but based on features, which do not generalize to other data.\n",
        "\n",
        "__Underfitting__: The model has too low capacity (or has not been trained long enough) and can not describe even features in the training data that would otherwise be useful in application to other data.\n",
        "\n",
        "With an intrisic approach, one could examine parameters and check, that they are in expected bounds. This is done by parameter regularization. More common approach is to have a validation dataset which is evaluated after training. If both the train and evaluation dataset have low performance, the model underfits. If the training data are fitted well, but the model performs bad on the evaluation data, it is overfited.\n",
        "A variant of this is to use cross validation, which is more computationally demanding, but delivers more stable reports."
      ]
    },
    {
      "cell_type": "markdown",
      "metadata": {
        "id": "7XI9t-usyo6O"
      },
      "source": [
        "**2.2 Evaluation metrics (2 points)**<br>\n",
        "Watch this <a href=\"https://www.youtube.com/watch?v=wpQiEHYkBys\">video about evaluation metrics</a>. <br>\n",
        "Discuss the differences between Accuracy, Precision, Recall, F1, MCC (Mathews Correlation Coeffcient): <br>\n",
        "1. How are they calculated? <br>\n",
        "2. In which case can a model get the perfect score? <br>\n",
        "3. Give examples of situations when you would prefer one over the others. <br>\n",
        "4. Getting back to our Titanic case: Imagine that you have to predict if the passenger survived or not and pass this information to the families. Which metric would you use? Why?"
      ]
    },
    {
      "cell_type": "markdown",
      "metadata": {
        "id": "7KmQo0Boyo6O"
      },
      "source": [
        "### 1\n",
        "\n",
        "Assuming we have computed the confusion matrix.\n",
        "\n",
        "Accuracy: $ \\frac{TP+TN}{TP+TN+FP+FN} $\n",
        "\n",
        "Precision: $ \\frac{TP}{TP+FP} $\n",
        "\n",
        "Recall: $ \\frac{TP}{TP+FN} $\n",
        "\n",
        "F1: $ \\frac{2\\cdot Prec \\cdot Rec}{Prec + Rec} $\n",
        "\n",
        "MCC: $ \\frac{TP\\cdot TN - FP\\cdot FN}{\\sqrt{(TP+FP)(TP+FN)(TN+FP)(TN+FN)}} $\n",
        "\n",
        "### 2\n",
        "\n",
        "The perfect score in all metrics can be achieved by having $ FN = FP = 0 $.\n",
        "\n",
        "### 3\n",
        "\n",
        "Any scenario in which the classes are imbalanced. For medical applications higher recall is more important in most cases (and positive instances are followed up with a more expensive test with higher precision). Accuracy could in this case by very high by always predicting the most common class (not sick), which is not intended. Usually we want some balance between these two, which results in $F_\\beta$\n",
        "\n",
        "### 4\n",
        "\n",
        "Definitely high precision. It is fairly \"straightforward\" to tell someone that their acquaintance passed away and acceptable to not say anything if we do not have the information. It is much more difficult to announce death but then later having to correct it."
      ]
    }
  ]
}